{
 "cells": [
  {
   "cell_type": "markdown",
   "metadata": {},
   "source": [
    "# Grundlegende Programmiertechniken - Blatt 5"
   ]
  },
  {
   "cell_type": "markdown",
   "metadata": {},
   "source": [
    "## Aufgabe 1: Array Übungen (10 Punkte)\n",
    "Schreiben Sie ein Programm und speichern Sie es als *Arrays.py*. Ihr Programm soll drei\n",
    "Fließkommazahlen einlesen und in einem Array speichern. Dann soll das Programm den\n",
    "Durchschnitt der Zahlen berechnen und ausgeben. Anschließend sollen Sie ein neues Array\n",
    "mit den beiden größten Zahlen des Arrays erstellen und ausgeben.\n",
    "\n",
    "**Verwenden Sie in der gesamten Aufgabe keine Schleifen!**"
   ]
  },
  {
   "cell_type": "code",
   "execution_count": 1,
   "metadata": {},
   "outputs": [
    {
     "name": "stdin",
     "output_type": "stream",
     "text": [
      "->  5\n",
      "->  7\n",
      "->  6.5\n"
     ]
    },
    {
     "name": "stdout",
     "output_type": "stream",
     "text": [
      "6.166666666666667\n",
      "[6.5, 7.0]\n"
     ]
    }
   ],
   "source": [
    "zahlen = [float(input(\"-> \")), float(input(\"-> \")), float(input(\"-> \"))]\n",
    "\n",
    "durchschnitt = sum(zahlen)/len(zahlen)\n",
    "print(durchschnitt)\n",
    "\n",
    "zahlen_sortiert = sorted(zahlen)\n",
    "groessten = zahlen_sortiert[-2:]\n",
    "print(groessten)"
   ]
  },
  {
   "cell_type": "code",
   "execution_count": 6,
   "metadata": {},
   "outputs": [
    {
     "name": "stdout",
     "output_type": "stream",
     "text": [
      "[4, 2, 3]\n"
     ]
    }
   ],
   "source": [
    "zahlen = [4, 2, 3]\n",
    "\n",
    "zahlen_sortiert = sorted(zahlen)\n",
    "#print(zahlen_sortiert)\n",
    "\n",
    "#zahlen.sort()\n",
    "\n",
    "print(zahlen)"
   ]
  },
  {
   "cell_type": "markdown",
   "metadata": {},
   "source": [
    "## Aufgabe 2: Zweidimensionales Array (20 Punkte)\n",
    "Schreiben Sie ein Programm und speichern Sie es als *Matrix.py*. Ihr Programm soll Wortpaare (Arrays mit zwei Wörtern) in einem Array speichern.\n",
    "- Dazu soll der Nutzer zunächst gefragt werden, wie viele Wortpaare er eingeben möchte. Dann sollen entsprechend oft jeweils zwei Wörter in ein Array eingelesen werden, und diese Arrays sollen widerum in einem Array gespeichert werden.\n",
    "- Erstellen Sie nun ein zweites Array, in das alle Wörter des ersten Arrays übertragen werden sollen, wobei im neuen Array nur Zeichenketten und keine Arrays stehen sollen. Dabei soll die Reihenfolge innerhalb der Wortpaare unverändert bleiben, die Paare sollen jedoch in umgekehrter Reihenfolge im neuen Array stehen.\n",
    "- Erstellen Sie nun ein drittes Array, in das ebenfalls die Wörter des ersten Arrays übertragen werden sollen und das ebenfalls nur Zeichenketten und keine Arrays enthalten soll. In dieses Array sollen die Worte so übertragen werden, dass die Reihenfolge der Wortpaare bestehen bleibt, sich die Reihenfolge innerhalb eines Paars jedoch jeweils umkehrt.\n",
    "- Geben Sie abschließend das ursprünglich eingelesene Array und die beiden neuen Arrays untereinander aus.\n",
    "\n",
    "Ein beispielhafter Aufruf könnte so aussehen:\n",
    "\n",
    "    python3 Matrix.py\n",
    "    Wie viele Wortpaare sollen eingegeben werden:2\n",
    "    Bitte geben Sie das 1te Wortpaar ein:\n",
    "    a\n",
    "    b\n",
    "    Bitte geben Sie das 2te Wortpaar ein:\n",
    "    x\n",
    "    y\n",
    "    [[’a’, ’b’], [’x’, ’y’]]\n",
    "    [’x’, ’y’, ’a’, ’b’]\n",
    "    [’b’, ’a’, ’y’, ’x’]\n",
    "\n"
   ]
  },
  {
   "cell_type": "code",
   "execution_count": 12,
   "metadata": {},
   "outputs": [
    {
     "name": "stdin",
     "output_type": "stream",
     "text": [
      "Wie viele Wortpaare:  2\n"
     ]
    },
    {
     "name": "stdout",
     "output_type": "stream",
     "text": [
      "Geben sie das 1te Wortpaar ein:\n"
     ]
    },
    {
     "name": "stdin",
     "output_type": "stream",
     "text": [
      " a\n",
      " b\n"
     ]
    },
    {
     "name": "stdout",
     "output_type": "stream",
     "text": [
      "Geben sie das 2te Wortpaar ein:\n"
     ]
    },
    {
     "name": "stdin",
     "output_type": "stream",
     "text": [
      " x\n",
      " y\n"
     ]
    },
    {
     "name": "stdout",
     "output_type": "stream",
     "text": [
      "[['a', 'b'], ['x', 'y']]\n",
      "['x', 'y', 'a', 'b']\n",
      "['b', 'a', 'y', 'x']\n"
     ]
    }
   ],
   "source": [
    "anzahl_paare = int(input(\"Wie viele Wortpaare: \"))\n",
    "paare = []\n",
    "\n",
    "for i in range(1, anzahl_paare+1):\n",
    "    print(\"Geben sie das\", str(i) + \"te Wortpaar ein:\")\n",
    "    wort1 = input()\n",
    "    wort2 = input()\n",
    "    paar = [[wort1, wort2]]\n",
    "    paare += paar\n",
    "    # Alternativ\n",
    "    # paare += [[input(), input()]]\n",
    "\n",
    "a1 = []\n",
    "for i in range(len(paare)-1, -1, -1):\n",
    "    a1 += paare[i]\n",
    "    \n",
    "a2 = []\n",
    "for i in range(len(paare)):\n",
    "    a2 += paare[i][1]\n",
    "    a2 += paare[i][0]\n",
    "\n",
    "print(paare)\n",
    "print(a1)\n",
    "print(a2)"
   ]
  },
  {
   "cell_type": "code",
   "execution_count": 14,
   "metadata": {},
   "outputs": [
    {
     "name": "stdin",
     "output_type": "stream",
     "text": [
      "Wie viele Wortpaare:  2\n"
     ]
    },
    {
     "name": "stdout",
     "output_type": "stream",
     "text": [
      "Geben sie das 1te Wortpaar ein:\n"
     ]
    },
    {
     "name": "stdin",
     "output_type": "stream",
     "text": [
      " a\n",
      " b\n"
     ]
    },
    {
     "name": "stdout",
     "output_type": "stream",
     "text": [
      "Geben sie das 2te Wortpaar ein:\n"
     ]
    },
    {
     "name": "stdin",
     "output_type": "stream",
     "text": [
      " x\n",
      " y\n"
     ]
    },
    {
     "name": "stdout",
     "output_type": "stream",
     "text": [
      "[['a', 'b'], ['x', 'y']]\n",
      "['x', 'y', 'a', 'b']\n",
      "['b', 'a', 'y', 'x']\n"
     ]
    }
   ],
   "source": [
    "anzahl_paare = int(input(\"Wie viele Wortpaare: \"))\n",
    "paare = []\n",
    "\n",
    "for i in range(1, anzahl_paare+1):\n",
    "    print(\"Geben sie das\", str(i) + \"te Wortpaar ein:\")\n",
    "    paare += [[input(), input()]]\n",
    "    \n",
    "a1 = []\n",
    "for paar in paare[::-1]:\n",
    "    a1 += paar\n",
    "    \n",
    "a2 = []\n",
    "for paar in paare:\n",
    "    a2 += paar[::-1]\n",
    "    \n",
    "print(paare)\n",
    "print(a1)\n",
    "print(a2)"
   ]
  },
  {
   "cell_type": "markdown",
   "metadata": {},
   "source": [
    "## Aufgabe 3: Einfache Funktionen (10 Punkte)\n",
    "Schreiben Sie ein Programm und speichern Sie es als *Funktionen.py*. Ihr Programm soll\n",
    "zwei Ganzzahlen als Programmparameter übergeben bekommen. In Ihrem Programm sollen\n",
    "Sie folgende Funktionen schreiben:\n",
    "- Die Funktion add(x,y) gibt den Wert x + y zurück.\n",
    "- Die Funktion diff(x,y) gibt den Betrag von x - y zurück.\n",
    "- Die Funktion mul(x,y) gibt den Wert x * y zurück. **Nutzen Sie keine Multiplikation in dieser Funktion.**\n",
    "- Die Funktion div(x,y) gibt den Wert x / y (sofern er existiert) zurück.\n",
    "\n",
    "Schreiben Sie nun ein kleines Hauptprogramm und rufen Sie jede Funktion mit den gegebenen\n",
    "zwei Programmparametern einmal auf."
   ]
  },
  {
   "cell_type": "code",
   "execution_count": 17,
   "metadata": {},
   "outputs": [
    {
     "name": "stdout",
     "output_type": "stream",
     "text": [
      "Overwriting Funktionen.py\n"
     ]
    }
   ],
   "source": [
    "%%writefile Funktionen.py\n",
    "# Imports\n",
    "import sys\n",
    "\n",
    "# Funktionsdefinitionen\n",
    "def add(x, y):\n",
    "    return x + y\n",
    "\n",
    "def diff(x, y):\n",
    "    return abs(x - y)\n",
    "\n",
    "def mul(x, y):\n",
    "    # abs(-3) * -5\n",
    "    if x < 0:\n",
    "        x = abs(x)\n",
    "        y = -y\n",
    "    \n",
    "    ergebnis = 0\n",
    "    for i in range(0, x):\n",
    "        ergebnis += y\n",
    "        \n",
    "    return ergebnis\n",
    "\n",
    "def div(x, y):\n",
    "    return x / y\n",
    "\n",
    "\n",
    "# Hauptprogramm\n",
    "print(\"Addition: \", add(int(sys.argv[1]), int(sys.argv[2])))\n",
    "print(\"Differenz: \", diff(int(sys.argv[1]), int(sys.argv[2])))\n",
    "print(\"Multiplikation: \", mul(int(sys.argv[1]), int(sys.argv[2])))\n",
    "print(\"Division: \", div(int(sys.argv[1]), int(sys.argv[2])))"
   ]
  },
  {
   "cell_type": "markdown",
   "metadata": {
    "jupyter": {
     "source_hidden": true
    }
   },
   "source": [
    "# Diverses"
   ]
  },
  {
   "cell_type": "markdown",
   "metadata": {
    "jupyter": {
     "source_hidden": true
    }
   },
   "source": [
    "## Zusatzaufgabe: Primzahlrange\n",
    "Schreiben Sie ein Programm und speichern Sie es als *Primzahlrange.py*. Das Programm soll 2 Ganzzahlen übergeben bekommen und alle Primzahlen zwischen den beiden Ganzzahlen untereinander ausgeben. Schreiben Sie dazu zunächst eine Funktion *istPrim(n)* welche testet ob eine Zahl eine Primzahl ist. Anschließend schreiben Sie die Funktion *primrange(start, ende)*, welche analog zur *range*-Funktion funktioniert, jedoch eine Range aller Primzahlen zwischen dem 1. Parameter und dem 2. Parameter (exklusiv) liefert. Anschließend schreiben Sie noch ein Hauptprogramm, welches die *primrange*-Funktion nutzt um alle Primzahlen zwischen der 1. übergebenen Zahl und der 2. übergebenen Zahl untereinander auszugeben."
   ]
  },
  {
   "cell_type": "code",
   "execution_count": null,
   "metadata": {
    "jupyter": {
     "source_hidden": true
    }
   },
   "outputs": [],
   "source": [
    "%%writefile Primzahlrange.py\n"
   ]
  },
  {
   "cell_type": "code",
   "execution_count": null,
   "metadata": {
    "jupyter": {
     "source_hidden": true
    }
   },
   "outputs": [],
   "source": []
  }
 ],
 "metadata": {
  "kernelspec": {
   "display_name": "Python 3",
   "language": "python",
   "name": "python3"
  },
  "language_info": {
   "codemirror_mode": {
    "name": "ipython",
    "version": 3
   },
   "file_extension": ".py",
   "mimetype": "text/x-python",
   "name": "python",
   "nbconvert_exporter": "python",
   "pygments_lexer": "ipython3",
   "version": "3.6.9"
  }
 },
 "nbformat": 4,
 "nbformat_minor": 4
}
