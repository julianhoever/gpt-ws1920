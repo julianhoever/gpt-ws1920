{
 "cells": [
  {
   "cell_type": "markdown",
   "metadata": {},
   "source": [
    "# Grundlegende Programmiertechniken - Blatt 9"
   ]
  },
  {
   "cell_type": "markdown",
   "metadata": {},
   "source": [
    "## Aufgabe 1: Fibonacci (10 Punkte)\n",
    "Die Fibonacci-Folge ist eine Folge von natürlichen Zahlen, die zweimal mit der 1 beginnt (Index 1 und 2). Danach ist jede Zahl die Summe der beiden vorherigen Zahlen in der Folge, die ersten Zahlen sind also: 1, 1, 2, 3, 5, 8, ... Schreiben Sie ein Programm und speichern Sie es als *Fibonacci.py*. Schreiben Sie in ihrem Programm eine Methode, die einen Index übergeben bekommt und die entsprechende Fibonacci-Zahl zurückgibt (return) und benutzen Sie **Rekursion** für Ihre Lösung!"
   ]
  },
  {
   "cell_type": "code",
   "execution_count": 1,
   "metadata": {},
   "outputs": [
    {
     "name": "stdout",
     "output_type": "stream",
     "text": [
      "Writing Fibonacci.py\n"
     ]
    }
   ],
   "source": [
    "%%writefile Fibonacci.py\n",
    "def fibonacci(index):\n",
    "    if index <= 2:\n",
    "        return 1\n",
    "    return fibonacci(index-1) + fibonacci(index-2)"
   ]
  },
  {
   "cell_type": "markdown",
   "metadata": {},
   "source": [
    "## Aufgabe 2: Summe (10 Punkte)\n",
    "Schreiben Sie ein Programm und speichern Sie es als *Summe.py*. Schreiben Sie in Ihrem Programm eine Methode, die so lange Zahlen vom Nutzer einliest (input), bis der Nutzer 0 eingibt. Dann soll die Methode die Summe der eingelesenen Zahlen zurückgeben. Benutzen Sie auch in dieser Methode **Rekursion**!"
   ]
  },
  {
   "cell_type": "code",
   "execution_count": 2,
   "metadata": {},
   "outputs": [
    {
     "name": "stdout",
     "output_type": "stream",
     "text": [
      "Writing Summe.py\n"
     ]
    }
   ],
   "source": [
    "%%writefile Summe.py\n",
    "def summe():\n",
    "    zahl = int(input(\"Zahl: \"))\n",
    "    if zahl == 0:\n",
    "        return 0\n",
    "    return zahl + summe()"
   ]
  },
  {
   "cell_type": "raw",
   "metadata": {},
   "source": [
    "summe() (Nutzer: 5) -> 9\n",
    "   5 + summe() -> 9\n",
    "          4 + summe() -> 4\n",
    "                0"
   ]
  },
  {
   "cell_type": "markdown",
   "metadata": {},
   "source": [
    "## Aufgabe 3: Hauptprogramm (10 Punkte)\n",
    "Schreiben Sie ein Programm und speichern Sie es als *Main.py*. Importieren Sie die beiden zuvor geschriebenen Methoden. Wenn ihr Programm beim Aufruf einen Programmparameter erhält, soll die entsprechende Fibonacci-Zahl ausgegeben werden (Aufgabe 1). Wenn kein Programmparameter übergeben wird, soll der Nutzer Zahlen eingeben können, um deren Summe zu berechnen (Aufgabe 2)."
   ]
  },
  {
   "cell_type": "code",
   "execution_count": 4,
   "metadata": {},
   "outputs": [
    {
     "name": "stdout",
     "output_type": "stream",
     "text": [
      "Overwriting Main.py\n"
     ]
    }
   ],
   "source": [
    "%%writefile Main.py\n",
    "import sys\n",
    "import Fibonacci\n",
    "import Summe\n",
    "\n",
    "if len(sys.argv) > 1:\n",
    "    zahl = int(sys.argv[1])\n",
    "    print(Fibonacci.fibonacci(zahl))\n",
    "else:\n",
    "    print(Summe.summe())"
   ]
  },
  {
   "cell_type": "code",
   "execution_count": 6,
   "metadata": {},
   "outputs": [
    {
     "name": "stdout",
     "output_type": "stream",
     "text": [
      "[0, 1, 4, 9, 16, 25, 36, 49, 64, 81, 100]\n"
     ]
    }
   ],
   "source": [
    "arr = []\n",
    "for i in range(0, 11):\n",
    "    arr += [i**2]\n",
    "print(arr)"
   ]
  },
  {
   "cell_type": "code",
   "execution_count": 7,
   "metadata": {},
   "outputs": [
    {
     "name": "stdout",
     "output_type": "stream",
     "text": [
      "[0, 1, 4, 9, 16, 25, 36, 49, 64, 81, 100]\n"
     ]
    }
   ],
   "source": [
    "arr = [x**2 for x in range(0, 11)]\n",
    "print(arr)"
   ]
  },
  {
   "cell_type": "code",
   "execution_count": 9,
   "metadata": {},
   "outputs": [
    {
     "name": "stdout",
     "output_type": "stream",
     "text": [
      "1\n",
      "[2, 3]\n"
     ]
    }
   ],
   "source": [
    "arr = [1, 2, 3]\n",
    "erste, *rest = arr\n",
    "print(erste)\n",
    "print(rest)"
   ]
  },
  {
   "cell_type": "code",
   "execution_count": null,
   "metadata": {
    "jupyter": {
     "source_hidden": true
    }
   },
   "outputs": [],
   "source": []
  }
 ],
 "metadata": {
  "kernelspec": {
   "display_name": "Python 3",
   "language": "python",
   "name": "python3"
  },
  "language_info": {
   "codemirror_mode": {
    "name": "ipython",
    "version": 3
   },
   "file_extension": ".py",
   "mimetype": "text/x-python",
   "name": "python",
   "nbconvert_exporter": "python",
   "pygments_lexer": "ipython3",
   "version": "3.6.9"
  }
 },
 "nbformat": 4,
 "nbformat_minor": 4
}
