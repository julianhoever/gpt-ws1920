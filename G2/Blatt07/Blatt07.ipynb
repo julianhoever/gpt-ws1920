{
 "cells": [
  {
   "cell_type": "markdown",
   "metadata": {},
   "source": [
    "# Grundlegende Programmiertechniken - Blatt 7"
   ]
  },
  {
   "cell_type": "markdown",
   "metadata": {},
   "source": [
    "## Aufgabe 1: Umdrehen (15 Punkte)\n",
    "Schreiben Sie ein Programm und speichern Sie es als *Umdrehen.py*. Ihr Programm erhält als **Programmparameter** den Namen einer Quelldatei. Dann soll es den Inhalt der Datei in umgekehrter Reihenfolge auf der Standardausgabe ausgeben.\n",
    "\n",
    "Tipp: Um auf einzelne Zeichen einer Zeichenkette z zugreifen zu können, können Sie z behandeln wie ein Array einzelner Zeichen. Das erste Zeichen wäre also beispielsweise z[0]."
   ]
  },
  {
   "cell_type": "code",
   "execution_count": 11,
   "metadata": {},
   "outputs": [
    {
     "name": "stdout",
     "output_type": "stream",
     "text": [
      "Overwriting Umdrehen.py\n"
     ]
    }
   ],
   "source": [
    "%%writefile Umdrehen.py\n",
    "import sys\n",
    "\n",
    "zeilen = []\n",
    "\n",
    "try:\n",
    "    with open(sys.argv[1], \"r\") as datei:\n",
    "        zeilen = datei.readlines()\n",
    "\n",
    "except:\n",
    "    print(\"Datei ist nicht vorhanden oder kann nicht geoeffnet werden.\")\n",
    "\n",
    "else:\n",
    "    # zeilen = zeilen[::-1]\n",
    "    # \n",
    "    # for zeile in zeilen:\n",
    "    #     print(zeile[::-1], end=\"\")\n",
    "    \n",
    "    for i in range(len(zeilen)-1, -1, -1):\n",
    "        for c in range(len(zeilen[i])-1, -1, -1):\n",
    "            print(zeilen[i][c], end=\"\")"
   ]
  },
  {
   "cell_type": "code",
   "execution_count": 6,
   "metadata": {},
   "outputs": [
    {
     "name": "stdout",
     "output_type": "stream",
     "text": [
      "ollaH\n"
     ]
    }
   ],
   "source": [
    "zeile = \"Hallo\"\n",
    "print(zeile[::-1])"
   ]
  },
  {
   "cell_type": "markdown",
   "metadata": {},
   "source": [
    "## Aufgabe 2: Rechnen (15 Punkte)\n",
    "Schreiben Sie ein Programm und speichern Sie es als *Rechnen.py*. Ihr Programm soll beliebig viele Kommazahlen über die Standardeingabe (sys.stdin) erhalten und diese in einem Array speichern. Anschließend sollen Durchschnitt, Minimum und Maximum der Zahlen ausgegeben werden. Schreiben Sie dazu für jede Rechnung (Durchschnitt, Minimum, Maximum) eine **eigene Methode**, insgesamt also drei Methoden."
   ]
  },
  {
   "cell_type": "code",
   "execution_count": 14,
   "metadata": {},
   "outputs": [
    {
     "name": "stdout",
     "output_type": "stream",
     "text": [
      "Overwriting Rechnen.py\n"
     ]
    }
   ],
   "source": [
    "%%writefile Rechnen.py\n",
    "import sys\n",
    "\n",
    "def durchschnitt(arr):\n",
    "    return sum(arr)/len(arr)\n",
    "\n",
    "def minimum(arr):\n",
    "    min_i = 0\n",
    "    for i in range(1, len(arr)):\n",
    "        if arr[i] < arr[min_i]:\n",
    "            min_i = i\n",
    "    return arr[min_i]\n",
    "\n",
    "def minimum2(arr):\n",
    "    mini = arr[0]\n",
    "    for element in arr:\n",
    "        if element < mini:\n",
    "            mini = element\n",
    "    return mini\n",
    "\n",
    "def maximum(arr):\n",
    "    max_i = 0\n",
    "    for i in range(1, len(arr)):\n",
    "        if arr[i] > arr[max_i]:\n",
    "            max_i = i\n",
    "    return arr[max_i]\n",
    "\n",
    "zahlen = []\n",
    "for zahl in sys.stdin:\n",
    "    zahlen += [float(zahl)]\n",
    "    \n",
    "print(\"Durchschnitt:\", durchschnitt(zahlen))\n",
    "print(\"Minimum:\", minimum(zahlen))\n",
    "print(\"Maximum:\", maximum(zahlen))"
   ]
  },
  {
   "cell_type": "code",
   "execution_count": null,
   "metadata": {
    "jupyter": {
     "source_hidden": true
    }
   },
   "outputs": [],
   "source": []
  }
 ],
 "metadata": {
  "kernelspec": {
   "display_name": "Python 3",
   "language": "python",
   "name": "python3"
  },
  "language_info": {
   "codemirror_mode": {
    "name": "ipython",
    "version": 3
   },
   "file_extension": ".py",
   "mimetype": "text/x-python",
   "name": "python",
   "nbconvert_exporter": "python",
   "pygments_lexer": "ipython3",
   "version": "3.6.9"
  }
 },
 "nbformat": 4,
 "nbformat_minor": 4
}
