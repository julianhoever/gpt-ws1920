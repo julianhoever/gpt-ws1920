{
 "cells": [
  {
   "cell_type": "markdown",
   "metadata": {},
   "source": [
    "# Grundlegende Programmiertechniken - Blatt 4"
   ]
  },
  {
   "cell_type": "markdown",
   "metadata": {},
   "source": [
    "## Aufgabe 1: Multiplikationstabelle (15 Punkte)\n",
    "Schreiben Sie ein Programm und speichern Sie es als *Multiplikationstabelle.py* ab. Ihr Programm soll zwei Ganzzahlen als **Programmparameter** erhalten. Sie dürfen davon ausgehen, dass die erste Zahl kleiner als die zweite Zahl ist. Ihr Programm soll nun die Multiplikationstabelle zu diesen beiden Zahlen ausgeben. Die Ausgabe soll nach dem folgendenSchema aufgebaut sein:\n",
    "\n",
    "    python3 Multiplikationstabelle.py 12 14\n",
    "        12  13  14\n",
    "    12  144 156 168\n",
    "    13  156 169 182\n",
    "    14  168 182 196"
   ]
  },
  {
   "cell_type": "code",
   "execution_count": 3,
   "metadata": {},
   "outputs": [
    {
     "name": "stdout",
     "output_type": "stream",
     "text": [
      "Overwriting Multiplikationstabelle.py\n"
     ]
    }
   ],
   "source": [
    "%%writefile Multiplikationstabelle.py\n",
    "import sys\n",
    "\n",
    "start = int(sys.argv[1])\n",
    "ende  = int(sys.argv[2])\n",
    "\n",
    "for i in range(start, ende + 1):\n",
    "    print(\"\\t\" + str(i), end=\"\")\n",
    "print()\n",
    "\n",
    "for i in range(start, ende + 1):\n",
    "    print(i, end=\"\\t\")\n",
    "    \n",
    "    for j in range(start, ende + 1):\n",
    "        print(i*j, end=\"\\t\")\n",
    "        \n",
    "    print()"
   ]
  },
  {
   "cell_type": "markdown",
   "metadata": {},
   "source": [
    "## Aufgabe 2: Array Indizes (10 Punkte)\n",
    "Schreiben Sie ein Programm und speichern Sie es als *Index.py* ab. Erstellen Sie in Ihrem Programm ein Array mit Strings Ihrer Wahl. Geben Sie nun ein einzelnes Element Ihres Arrays aus und benutzen Sie als Index jeweils einmal eine Zahl, die\n",
    "\n",
    "- positiv und kleiner als die Länge ist,\n",
    "- positiv und größer oder gleich der Länge ist,\n",
    "- negativ und im Betrag kleiner oder gleich der Länge ist,\n",
    "- negativ und im Betrag größer als die Länge ist.\n",
    "\n",
    "Welche Regeln lassen sich für diese verschiedenen Kategorien ableiten? Schreiben Sie diese in eine Datei namens *Aufgabe2.txt*. Kommentieren Sie vor der Abgabe in ihrem Code alle Anweisungen aus, die einen Fehler produzieren."
   ]
  },
  {
   "cell_type": "code",
   "execution_count": 8,
   "metadata": {},
   "outputs": [
    {
     "name": "stdout",
     "output_type": "stream",
     "text": [
      "Welt\n",
      "Hallo\n"
     ]
    }
   ],
   "source": [
    "array = [\"Hallo\", \"Welt\", \"!\"]\n",
    "\n",
    "print(array[1])\n",
    "# print(array[10])\n",
    "print(array[-3])\n",
    "# print(array[-8])"
   ]
  },
  {
   "cell_type": "markdown",
   "metadata": {},
   "source": [
    "**Regeln:**\n",
    "\n",
    "- Positiver Index: 0 <= index < len(array)\n",
    "    - Erstes Element: array[0]\n",
    "    - Letzte Element: array[len(array)-1]\n",
    "- Negativen Index: -len(array) <= index < 0\n",
    "    - Erste Element: array[-len(array)]\n",
    "    - Letzte Element: array[-1]"
   ]
  },
  {
   "cell_type": "markdown",
   "metadata": {},
   "source": [
    "## Aufgabe 3: Umkehren (15 Punkte)\n",
    "Schreiben Sie ein Programm und speichern Sie es als *Umkehren.py* ab. Erstellen Sie in Ihrem Programm ein Array mit allen Zahlen der Dreierreihe (von 3 bis 30 einschließlich). Nun soll Ihr Programm die Reihenfolge der Zahlen in dem Array umkehren, indem jeweils die erste mit der letzten Zahl, die zweite mit der zweitletzten Zahl usw. getauscht werden. Es soll dabei kein neues Array erstellt werden, sondern die Zahlen sollen in dem Array selbst getauscht werden. Anschließend soll Ihr Programm die Zahlen in der neuen Reihenfolge untereinander ausgeben."
   ]
  },
  {
   "cell_type": "code",
   "execution_count": 17,
   "metadata": {},
   "outputs": [
    {
     "name": "stdout",
     "output_type": "stream",
     "text": [
      "30\n",
      "27\n",
      "24\n",
      "21\n",
      "18\n",
      "15\n",
      "12\n",
      "9\n",
      "6\n",
      "3\n"
     ]
    }
   ],
   "source": [
    "arr = list(range(3, 31, 3))\n",
    "\n",
    "letztes = len(arr) - 1\n",
    "\n",
    "while letztes >= len(arr) // 2:\n",
    "    temp = arr[letztes]\n",
    "    arr[letztes] = arr[len(arr) - letztes - 1]\n",
    "    arr[len(arr) - letztes - 1] = temp\n",
    "    letztes -= 1\n",
    "    \n",
    "for zahl in arr:\n",
    "    print(zahl)"
   ]
  },
  {
   "cell_type": "markdown",
   "metadata": {},
   "source": [
    "# Diverses"
   ]
  },
  {
   "cell_type": "markdown",
   "metadata": {},
   "source": [
    "Schreiben Sie ein Programm und speichern Sie es als *Notiz.py*. Ihr Programm soll über die **Standardeingabe** beliebig viele Zeilen einlesen und sie unverändert in die Datei *Notiz.txt* schreiben. "
   ]
  },
  {
   "cell_type": "code",
   "execution_count": 22,
   "metadata": {},
   "outputs": [
    {
     "name": "stdout",
     "output_type": "stream",
     "text": [
      "Overwriting Notiz.py\n"
     ]
    }
   ],
   "source": [
    "%%writefile Notiz.py\n",
    "import sys\n",
    "\n",
    "with open(\"Notiz.txt\", \"w\") as out:\n",
    "    for zeile in sys.stdin:\n",
    "        out.write(zeile)"
   ]
  },
  {
   "cell_type": "code",
   "execution_count": null,
   "metadata": {},
   "outputs": [],
   "source": []
  }
 ],
 "metadata": {
  "kernelspec": {
   "display_name": "Python 3",
   "language": "python",
   "name": "python3"
  },
  "language_info": {
   "codemirror_mode": {
    "name": "ipython",
    "version": 3
   },
   "file_extension": ".py",
   "mimetype": "text/x-python",
   "name": "python",
   "nbconvert_exporter": "python",
   "pygments_lexer": "ipython3",
   "version": "3.6.9"
  }
 },
 "nbformat": 4,
 "nbformat_minor": 4
}
