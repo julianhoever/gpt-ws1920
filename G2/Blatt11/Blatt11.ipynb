{
 "cells": [
  {
   "cell_type": "markdown",
   "metadata": {},
   "source": [
    "# Grundlegende Programmiertechniken - Blatt 11"
   ]
  },
  {
   "cell_type": "markdown",
   "metadata": {},
   "source": [
    "## Aufgabe 1: Sortieralgorithmus (15 Punkte)\n",
    "Schauen Sie sich den folgenden Sortieralgorithmus an. Sie finden diesen auch im Moodle in\n",
    "der Datei *Sort1.py*.\n",
    "\n",
    "    def tausche(l,a,b):\n",
    "        t = l[a]\n",
    "        l[a] = l[b]\n",
    "        l[b] = t\n",
    "        \n",
    "    def sort1(liste):\n",
    "        l = len(liste)\n",
    "        for i in range(l, -1, -1):\n",
    "            for x in range(1, i):\n",
    "                if liste[x-1] > liste[x]:\n",
    "                    tausche(liste, x-1, x)\n",
    "            \n",
    "Versuchen Sie nun zunächst, den Algorithmus zu verstehen und schreiben Sie die Grundidee\n",
    "möglichst kurz und präzise auf. Versuchen Sie anschließend die Laufzeit des Algorithmus\n",
    "abzuschätzen, indem Sie den Best Case, den Worst Case und den Average Case angeben.\n",
    "Geben Sie die Ergebnisse in einer Datei namens *Aufgabe1.txt* ab."
   ]
  },
  {
   "cell_type": "markdown",
   "metadata": {},
   "source": [
    "**Lösung:**\n",
    "\n",
    "- Der hier vorliegende Sortieralgorithmus sortiert das Array, indem er von vorne nach hinten das Array durchgeht, und das jeweils größte Element nach hinten schiebt.\n",
    "\n",
    "- Die äußere for-Schleife markiert dafür den Bereich ab, der noch sortiert werden muss (alles von Anfang bis i).\n",
    "\n",
    "- Die innere for-Schleife führt das Vertauschen durch. Da jeweils die aktuelle Position x mit dem Vorgänger verglichen werden muss, fängt die Schleife bei 1 an.\n",
    "\n",
    "- Sei N die Länge der Eingabeliste\n",
    "\n",
    "- Das i der äußere Schleife durchläuft die Werte: N, N-1, N-2, ..., 1, 0\n",
    "    - Also insgesamt N+1 Durchläufe der Schleife\n",
    "    \n",
    "- Innere Schleife läuft in Abhängigkeit von der äußeren Schleife und das x nimmt die Werte: 1, 2, ..., i-1 an\n",
    "    - Anschaulich dargestellt nimmt x  für z.B. N = 5 folgende Werte an:\n",
    "        | i |   |   |   |   |\n",
    "        |---|---|---|---|---|\n",
    "        | 5 | 1 | 2 | 3 | 4 |\n",
    "        | 4 | 1 | 2 | 3 |   |\n",
    "        | 3 | 1 | 2 |   |   |\n",
    "        | 2 | 1 |   |   |   |\n",
    "        | 1 | - | - | - | - |\n",
    "        | 0 | - | - | - | - |\n",
    "        \n",
    "    - Man kann erkennen, dass 4 + 3 + 2 + 1 Vergleiche gemacht werden\n",
    "    - Allgemeiner die Summe der ersten N-1 natürlichen Zahlen (Gaußsche Summenformel)\n",
    "        - Die Gaußsche Summenformel:\n",
    "            - $\\frac{1}{2}n(n+1)$\n",
    "        - Da wir ja N-1 Vergleiche im maximalen Fall machen setzen wir N-1 in die Formel für n ein:\n",
    "            - $\\frac{1}{2}(N-1)(N-1+1) = \\frac{1}{2}(N-1)N = \\frac{1}{2}(N^2-N)$\n",
    "\n",
    "- Die Anzahl der Vergleiche ist sowohl im Worst Case, als auch im Best und Average Case identisch, da der Vergleich nur in Abhängigkeit der Länge der Liste angelaufen wird und es keine vorzeitige Abbruchbedingung in den Schleifen gibt.\n",
    "\n",
    "- Damit beträgt die Anzahl der Vergleiche: $\\frac{1}{2}(N^2-N)$"
   ]
  },
  {
   "cell_type": "markdown",
   "metadata": {},
   "source": [
    "## Aufgabe 2: Vergleich von Algorithmen (15 Punkte)\n",
    "Finden Sie für die folgenden Beispiel-Arrays jeweils heraus, wie viele Vergleiche und Vertauschungen die aus der Vorlesung bekannten Algorithmen Selection Sort, Insertion\n",
    "Sort und der in Aufgabe 1 vorgestellte Algorithmus benötigen, um das Array zu sortieren.\n",
    "Geben Sie die Ergebnisse in einer Datei namens *Aufgabe2.txt* ab.\n",
    "    \n",
    "    [8, 3, 5, 1, 4]\n",
    "    [2, 6, 4, 6, 8]\n",
    "    [9, 8, 6, 2, 1]\n"
   ]
  },
  {
   "cell_type": "code",
   "execution_count": null,
   "metadata": {},
   "outputs": [],
   "source": [
    "def tausche(l,a,b):\n",
    "    t = l[a]\n",
    "    l[a] = l[b]\n",
    "    l[b] = t\n",
    "\n",
    "\n",
    "def selectionSort(liste):\n",
    "    l = len(liste)\n",
    "    for i in range(l):\n",
    "        min = i\n",
    "        for j in range(i+1, l):\n",
    "            if liste[j] < liste[min]: min = j\n",
    "        tausche(liste, i, min)\n",
    "\n",
    "\n",
    "def insertionSort(liste):\n",
    "    l = len(liste)\n",
    "    for i in range(1, l):\n",
    "        j = i\n",
    "        while (j > 0) and (liste[j] < liste[j-1]):\n",
    "            tausche(liste, j, j-1)\n",
    "            j -= 1\n",
    "\n",
    "\n",
    "def sort1(liste):\n",
    "    l = len(liste)\n",
    "    for i in range(l, -1, -1):\n",
    "        for x in range(1, i):\n",
    "            if liste[x-1] > liste[x]:\n",
    "                tausche(liste, x-1, x)"
   ]
  },
  {
   "cell_type": "markdown",
   "metadata": {},
   "source": [
    "**Lösung:**\n",
    "\n",
    "| Liste: [8, 3, 5, 1, 4] | Vergleiche | Vertauschungen |\n",
    "|------------------------|------------|----------------|\n",
    "| Selection Sort         | 10         | 5              |\n",
    "| Insertion Sort         | 14         | 7              |\n",
    "| Sort1                  | 10         | 7              |\n",
    "\n",
    "| Liste: [2, 6, 4, 6, 8] | Vergleiche | Vertauschungen |\n",
    "|------------------------|------------|----------------|\n",
    "| Selection Sort         | 10         | 5              |\n",
    "| Insertion Sort         | 2          | 1              |\n",
    "| Sort1                  | 10         | 1              |\n",
    "\n",
    "| Liste: [9, 8, 6, 2, 1] | Vergleiche | Vertauschungen |\n",
    "|------------------------|------------|----------------|\n",
    "| Selection Sort         | 10         | 5              |\n",
    "| Insertion Sort         | 20         | 10             |\n",
    "| Sort1                  | 10         | 10             |"
   ]
  },
  {
   "cell_type": "markdown",
   "metadata": {},
   "source": [
    "## Aufgabe 3: Java Multi (Alte Klausuraufgabe) (15 Punkte)\n",
    "Schreiben Sie ein Java - Programm *Multi.java*, welches zwei Parameter bekommt. Der\n",
    "erste Parameter soll so oft hintereinander ausgegeben werden, wie mit dem zweiten Parameter\n",
    "spezifiziert. Eine mögliche Interaktion könnte also so aussehen:\n",
    "\n",
    "    java Multi Hallo 5\n",
    "    HalloHalloHalloHalloHallo"
   ]
  },
  {
   "cell_type": "code",
   "execution_count": null,
   "metadata": {},
   "outputs": [],
   "source": [
    "import sys\n",
    "\n",
    "wort = sys.argv[1]\n",
    "n = int(sys.argv[2])\n",
    "\n",
    "res = \"\"\n",
    "\n",
    "for i in range(n):\n",
    "    res += wort\n",
    "    \n",
    "print(res)"
   ]
  },
  {
   "cell_type": "markdown",
   "metadata": {},
   "source": [
    "**Lösung:**\n",
    "    \n",
    "    public class Multi {\n",
    "        public static void main(String[] args) {\n",
    "            String wort = args[0];\n",
    "            int anzahl = Integer.parseInt(args[1]);\n",
    "        \n",
    "            String ausgabe = \"\";\n",
    "\n",
    "            for (int i = 0; i < anzahl; i++) {\n",
    "                ausgabe += wort;\n",
    "            }\n",
    "\n",
    "            System.out.println(ausgabe);\n",
    "        }\n",
    "    }"
   ]
  },
  {
   "cell_type": "markdown",
   "metadata": {},
   "source": [
    "# Rekursion"
   ]
  },
  {
   "cell_type": "code",
   "execution_count": 3,
   "metadata": {},
   "outputs": [
    {
     "name": "stdout",
     "output_type": "stream",
     "text": [
      "2\n",
      "1\n",
      "0\n",
      "-1\n",
      "0\n",
      "1\n",
      "2\n"
     ]
    }
   ],
   "source": [
    "def a(i=2):\n",
    "    print(i)\n",
    "    if i >= 0:\n",
    "        a(i-1)\n",
    "        print(i)\n",
    "a()"
   ]
  },
  {
   "cell_type": "markdown",
   "metadata": {},
   "source": [
    "    a(i=2)\n",
    "    print(i)\n",
    "    |\n",
    "    |   a(1)\n",
    "    |   print(i)\n",
    "    |   |\n",
    "    |   |   a(0)\n",
    "    |   |   print(i)\n",
    "    |   |   |\n",
    "    |   |   |   a(-1)\n",
    "    |   |   |   print(i)\n",
    "    |   |   |\n",
    "    |   |   print(i)\n",
    "    |   |\n",
    "    |   print(i)\n",
    "    |\n",
    "    print(i)"
   ]
  },
  {
   "cell_type": "code",
   "execution_count": null,
   "metadata": {},
   "outputs": [],
   "source": []
  }
 ],
 "metadata": {
  "kernelspec": {
   "display_name": "Python 3",
   "language": "python",
   "name": "python3"
  },
  "language_info": {
   "codemirror_mode": {
    "name": "ipython",
    "version": 3
   },
   "file_extension": ".py",
   "mimetype": "text/x-python",
   "name": "python",
   "nbconvert_exporter": "python",
   "pygments_lexer": "ipython3",
   "version": "3.6.9"
  }
 },
 "nbformat": 4,
 "nbformat_minor": 4
}
