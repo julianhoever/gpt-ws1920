{
 "cells": [
  {
   "cell_type": "markdown",
   "metadata": {},
   "source": [
    "# Grundlegende Programmiertechniken - Blatt 0"
   ]
  },
  {
   "cell_type": "markdown",
   "metadata": {},
   "source": [
    "Alle Abgaben müssen in Moodle bis **23. Oktober 2019, 10:00 Uhr CET** hochgeladen werden, anderenfalls wird das Übungsblatt mit 0 Punkten bewertet. Beispielhafte (Konsolen-)Ausgaben sind häufig Teil der Aufgabe. Stimmen Ihre Lösungen nicht mit den beispielhaften Ausgaben überein, erhalten Sie nur sehr wenige Punkte. Bitte fügen Sie keine weiteren, nicht in der Aufgabe geforderten Ausgaben hinzu. Packen Sie alle Dateien Ihrer Lösung in eine Zip-Datei. Innerhalb dieser Zip-Datei dürfen keine Unterverzeichnisse angelegt werden. Der Dateiname muss wie folgt aussehen: ***Nachname-Vorname-Uebung0.zip***"
   ]
  },
  {
   "cell_type": "markdown",
   "metadata": {},
   "source": [
    "## Aufgabe 1: Vorbereitung\n",
    "Um auf Ihrem Computer Python-Programme erstellen und starten zu können, benötigen Sie Python, welches wir in der Version 3.6 einsetzen werden. Diese Softwarekomponente kann kostenfrei unter: https://www.python.org/downloads/ bezogen werden. Um in Python zu programmieren, haben Sie verschiedene Möglichkeiten: \n",
    "1. **IDLE** Das Integrated Development Environment wird automatisch mit Python zusammmen installiert und stellt die grafische Entwicklungsumgebung für Python dar. Wenn Sie IDLE starten, öffnet sich zunächst eine Python Shell. Das Menü bietet Ihnen die Möglichkeit, einfach eine neue Datei zu erstellen, die sich in einem neuen Fenster öffnet. Wenn Sie diese speichern und ausführen, sehen Sie das Ergebnis direkt in der Shell.\n",
    "2. **Texteditor und Kommandozeile** Sie können zum Schreiben Ihrer Python Programme auch einen Texteditor Ihrer Wahl benutzen. Speichern Sie Ihr Programm einfach mit der Endung.py ab. Um Ihr Programm auszuführen, benutzen Sie dann die Eingabeaufforderung/Terminal.\n",
    "3. **Kommandozeile** Sie können Programme auch direkt in der Kommandozeile schreiben. Tippen Sie python, wenn Sie keine andere Version von Python installiert haben oder python3, wenn Sie auch Python 2 installiert haben (unter Linux und MacOS ist Python 2 standardmäßig installiert). Sie sehen nun, mit welcher Version von Python Sie arbeiten. Nun können Sie ohne weitere Vorbereitung Zeile für Zeile Python Code schreiben, der durch das Betätigen der Eingabe-Taste ausgeführt wird. Diese Option eignet sich vor allem, um bestimmte Python-Anweisungen mal eben auszuprobieren. Für längere Programme sowie Ihre Abgaben empfehlen wir Ihnen, den Code stets in eine Datei zu schreiben."
   ]
  },
  {
   "cell_type": "markdown",
   "metadata": {},
   "source": [
    "## Einschub: Wie schreibt man ein Python-Programm?\n",
    "1. Benutze um ein Programm zu schreiben einen Texteditor deiner Wahl. Ich empfehle euch für den Einstieg **keine** Entwicklungsumgebungen wie z.B. PyCharm zu benutzen. Mögliche Editoren sind z.B.:\n",
    " - Notepad++ (Windows), Sublime Text\n",
    " - nano, vim, emacs, ...\n",
    "\n",
    "\n",
    "2. Erstelle in dem Editor deiner Wahl eine neue Textdatei und schreibe da rein deinen Programmcode.\n",
    "\n",
    "\n",
    "3. Speicher diese Datei mit der Dateiendung **.py** ab. Fertig."
   ]
  },
  {
   "cell_type": "markdown",
   "metadata": {},
   "source": [
    "## Aufgabe 2: Vorstellungsrunde (5 Punkte)\n",
    "Ihr erstes selbst geschriebenes Programm soll uns Ihren Namen sagen. Ändern Sie dazu den Code aus *HelloWorld.py* so ab, dass die Ausgabe nun statt ”Hello World“ Ihren Namen anzeigt. Sie können selbst entscheiden, welche der oben beschriebenen Möglichkeiten Sie nutzen. Da Sie aber fertige Programme abgeben müssen, sollten Sie Ihre Programme stets in einer Datei abspeichern (nur Kommandozeile reicht nicht). \n",
    "Sie haben soeben Ihr eigenes Programm geschrieben, Glückwunsch! Packen Sie bitte Ihre endgültige HelloWorld.py **Datei** wie oben beschrieben in eine Zip-Datei und laden diese rechtzeitig in Moodle hoch."
   ]
  },
  {
   "cell_type": "code",
   "execution_count": 1,
   "metadata": {},
   "outputs": [
    {
     "name": "stdout",
     "output_type": "stream",
     "text": [
      "Name\n"
     ]
    }
   ],
   "source": [
    "print(\"Name\")"
   ]
  },
  {
   "cell_type": "markdown",
   "metadata": {},
   "source": [
    "## Einschub: Worin führen wir unsere Python Programme am besten aus?\n",
    "Ganz klar in der Konsole/Eingabeaufforderung/Terminal!"
   ]
  },
  {
   "cell_type": "markdown",
   "metadata": {},
   "source": [
    "### Schritt für Schritt (Windows)\n",
    "1. Eingabeaufforderung/CMD öffnen. Wo der Cursor blinkt müsste sowas wie \"C:\\Users\\MyUserName>\" stehen. Das sagt euch: Ihr seid aktuell mit eurer Konsole in dem Ordner \"C:\\Users\\MyUserName\\\". In diesem Ordner befinden sich in der Regel alle Verzeichnisse von eurem Nutzer wie z.B.: Desktop, Bilder oder Dokumente\n",
    "\n",
    "\n",
    "2. Wollt ihr den Ordner wechseln, weil sich das Python Script, das ihr ausführen wollt, z.B. im Ordner \"C:\\Users\\MyUserName\\Desktop\\MyPythonScripts\\\" befindet müsst ihr den *cd* Befehl nutzen. Dazu sagt ihr einfach \"cd Desktop\", damit befindet ihr euch dann im Ordner Desktop, und dann wieder \"cd MyPythonScripts\", damit ihr in den Ordner \"MyPythonScripts\" wechselt. Nun müsste wo der Curser blinkt sowas stehen wie: \"C:\\Users\\MyUserName\\Desktop\\MyPythonScripts>\". Damit seit ihr ja wo ihr hin wollt.\n",
    "\n",
    "\n",
    "3. Mit dem Befehl \"dir\" könnt ihr alle Verzeichnisse und Dateien in dem Ordner in dem ihr euch befindet auflisten.\n",
    "\n",
    "\n",
    "4. Nun seid ihr ja in dem Ordner in dem sich das Python Programm befindet. Jetzt nur noch das Programm ausführen mit: \"python HelloWorld.py\" oder \"py HelloWorld.py\""
   ]
  },
  {
   "cell_type": "markdown",
   "metadata": {},
   "source": [
    "# Weiteres..."
   ]
  },
  {
   "cell_type": "markdown",
   "metadata": {},
   "source": [
    "## Variablen\n",
    "Was ist die Ausgabe des Programms?"
   ]
  },
  {
   "cell_type": "code",
   "execution_count": 2,
   "metadata": {},
   "outputs": [
    {
     "name": "stdout",
     "output_type": "stream",
     "text": [
      "Hallo Übungsgruppe!\n"
     ]
    }
   ],
   "source": [
    "print(\"Hallo Übungsgruppe!\")"
   ]
  },
  {
   "cell_type": "code",
   "execution_count": 3,
   "metadata": {},
   "outputs": [
    {
     "name": "stdout",
     "output_type": "stream",
     "text": [
      "Python 3\n"
     ]
    }
   ],
   "source": [
    "hey = \"Python 3\"\n",
    "print(hey)"
   ]
  },
  {
   "cell_type": "code",
   "execution_count": 4,
   "metadata": {},
   "outputs": [
    {
     "name": "stdout",
     "output_type": "stream",
     "text": [
      "30\n"
     ]
    }
   ],
   "source": [
    "a = 10\n",
    "a = a * 3\n",
    "print(a)"
   ]
  },
  {
   "cell_type": "code",
   "execution_count": 5,
   "metadata": {},
   "outputs": [
    {
     "name": "stdout",
     "output_type": "stream",
     "text": [
      "5\n",
      "3\n"
     ]
    }
   ],
   "source": [
    "b = 3\n",
    "print(b + 2)\n",
    "print(b)"
   ]
  },
  {
   "cell_type": "code",
   "execution_count": 7,
   "metadata": {},
   "outputs": [
    {
     "name": "stdout",
     "output_type": "stream",
     "text": [
      "30\n"
     ]
    }
   ],
   "source": [
    "s = \"15\"\n",
    "print(int(s) * 2)"
   ]
  },
  {
   "cell_type": "markdown",
   "metadata": {},
   "source": [
    "## Datentypen\n",
    "Um welchen Datentypen handelt es sich?"
   ]
  },
  {
   "cell_type": "code",
   "execution_count": null,
   "metadata": {},
   "outputs": [],
   "source": [
    "\"Hallo Welt\" # String"
   ]
  },
  {
   "cell_type": "code",
   "execution_count": null,
   "metadata": {},
   "outputs": [],
   "source": [
    "42 # Int"
   ]
  },
  {
   "cell_type": "code",
   "execution_count": null,
   "metadata": {},
   "outputs": [],
   "source": [
    "True # Bool "
   ]
  },
  {
   "cell_type": "code",
   "execution_count": null,
   "metadata": {},
   "outputs": [],
   "source": [
    "4.2 # Float"
   ]
  },
  {
   "cell_type": "code",
   "execution_count": null,
   "metadata": {},
   "outputs": [],
   "source": [
    "15 == 30 or 42 != 42 # Bool"
   ]
  },
  {
   "cell_type": "code",
   "execution_count": null,
   "metadata": {},
   "outputs": [],
   "source": [
    "float(\"15\") # float"
   ]
  },
  {
   "cell_type": "markdown",
   "metadata": {},
   "source": [
    "## GitHub\n",
    "\n",
    "Den gesamten Übungsfortschritt werde ich nachdem alle Gruppen ihre Musterlösungen zu dem jeweiligen Blatt vorgestellt haben auf GitHub hochladen.\n",
    "\n",
    "Das soll eine Hilfe für euch darstellen und euch die Möglichkeit geben Zuhause in Ruhe die Übung nochmal durchzugehen. **Falls das jedoch dazu führt, dass niemend mehr zu der Übung erscheint, werde ich das Hochladen auf GitHub wieder einstellen.** Weil ich bin der Meinung, dass die Anwesenheit in der Übung und die Möglichkeit Fragen zu stellen deutlich wichtiger ist und nur so kann ich eine auf eure Probleme maßgeschneiderte Übung anbieten.\n",
    "\n",
    "Der Link zu dem GitHub Repo lautet:\n",
    "- https://github.com/julianhoever/gpt-ws1920"
   ]
  }
 ],
 "metadata": {
  "kernelspec": {
   "display_name": "Python 3",
   "language": "python",
   "name": "python3"
  },
  "language_info": {
   "codemirror_mode": {
    "name": "ipython",
    "version": 3
   },
   "file_extension": ".py",
   "mimetype": "text/x-python",
   "name": "python",
   "nbconvert_exporter": "python",
   "pygments_lexer": "ipython3",
   "version": "3.6.8"
  }
 },
 "nbformat": 4,
 "nbformat_minor": 4
}
