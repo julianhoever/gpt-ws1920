{
 "cells": [
  {
   "cell_type": "markdown",
   "metadata": {},
   "source": [
    "# Grundlegende Programmiertechniken - Blatt 2"
   ]
  },
  {
   "cell_type": "markdown",
   "metadata": {},
   "source": [
    "## Aufgabe 1: Zahlenvergleich (10 Punkte)\n",
    "Schreiben Sie ein Programm und speichern Sie es als *Vergleich.py* ab. Ihr Programm soll drei Ganzzahlen als Programmparameter erhalten. Wenn alle drei Zahlen übereinstimmen, soll das Programm ”Gleich“ ausgeben, wenn die Zahlen in sortierter Reihenfolge eingegeben wurden, soll entsprechend ”Aufsteigend sortiert“ bzw. ”Absteigend sortiert“ ausgegeben werden, ansonsten ”Unsortiert“. Als sortiert gelten auch Eingaben, bei denen zwei Zahlen übereinstimmen (z.B. 2 2 3 wäre aufsteigend sortiert).\n",
    "\n",
    "**Hinweis:** Das Schlüsselwort elif kombiniert die Funktionalität von else und if. Sie dürfen es hier, wenn Sie es für angemessen halten, benutzen."
   ]
  },
  {
   "cell_type": "code",
   "execution_count": 1,
   "metadata": {},
   "outputs": [
    {
     "name": "stdout",
     "output_type": "stream",
     "text": [
      "Writing Vergleich.py\n"
     ]
    }
   ],
   "source": [
    "%%writefile Vergleich.py\n",
    "import sys\n",
    "\n",
    "a = int(sys.argv[1])\n",
    "b = int(sys.argv[2])\n",
    "c = int(sys.argv[3])\n",
    "\n",
    "if a == b and b == c:\n",
    "    print(\"Gleich.\")\n",
    "elif a >= b and b >= c:\n",
    "    print(\"Absteigend sortiert.\")\n",
    "elif a <= b and b <= c:\n",
    "    print(\"Aufsteigend sortiert.\")\n",
    "else:\n",
    "    print(\"Unsortiert.\")"
   ]
  },
  {
   "cell_type": "code",
   "execution_count": 3,
   "metadata": {},
   "outputs": [
    {
     "data": {
      "text/plain": [
       "False"
      ]
     },
     "execution_count": 3,
     "metadata": {},
     "output_type": "execute_result"
    }
   ],
   "source": [
    "\"Albert\" > \"Anton\""
   ]
  },
  {
   "cell_type": "markdown",
   "metadata": {},
   "source": [
    "## Aufgabe 2: Namen sortiern (10 Punkte)\n",
    "Schreiben Sie ein Programm und speichern Sie es als *Sortieren.py* ab. Ihr Programm soll **drei verschiedene** Namen über die **input-Funktion** einlesen. Sie dürfen davon ausgehen, dass die Namen verschieden sind und müssen dies nicht überprüfen. Ihr Ziel ist es, die Namen alphabetisch sortiert auszugeben, wobei jeder Name in einer eigenen Zeile stehen soll. Insgesamt erwarten wir von Ihrem Programm also 3 Zeilen Ausgabe, wobei jede Zeile genau einen Namen (und sonst nichts) beinhaltet."
   ]
  },
  {
   "cell_type": "code",
   "execution_count": 4,
   "metadata": {},
   "outputs": [
    {
     "name": "stdin",
     "output_type": "stream",
     "text": [
      "Name 1:  Albert\n",
      "Name 2:  Peter\n",
      "Name 3:  Ben\n"
     ]
    },
    {
     "name": "stdout",
     "output_type": "stream",
     "text": [
      "Albert\n",
      "Ben\n",
      "Peter\n"
     ]
    }
   ],
   "source": [
    "n1 = input(\"Name 1: \")\n",
    "n2 = input(\"Name 2: \")\n",
    "n3 = input(\"Name 3: \")\n",
    "\n",
    "if n1 < n2 < n3:\n",
    "    print(n1)\n",
    "    print(n2)\n",
    "    print(n3)\n",
    "elif n1 < n3 < n2:\n",
    "    print(n1)\n",
    "    print(n3)\n",
    "    print(n2)\n",
    "elif n2 < n1 < n3:\n",
    "    print(n2)\n",
    "    print(n1)\n",
    "    print(n3)\n",
    "elif n2 < n3 < n1:\n",
    "    print(n2)\n",
    "    print(n3)\n",
    "    print(n1)\n",
    "elif n3 < n2 < n1:\n",
    "    print(n3)\n",
    "    print(n2)\n",
    "    print(n1)\n",
    "else:\n",
    "    print(n3)\n",
    "    print(n1)\n",
    "    print(n2)"
   ]
  },
  {
   "cell_type": "code",
   "execution_count": 5,
   "metadata": {},
   "outputs": [
    {
     "name": "stdin",
     "output_type": "stream",
     "text": [
      "Name 1:  Alber\n",
      "Name 2:  Tim\n",
      "Name 3:  Ben\n"
     ]
    },
    {
     "name": "stdout",
     "output_type": "stream",
     "text": [
      "Alber\n",
      "Ben\n",
      "Tim\n"
     ]
    }
   ],
   "source": [
    "n1 = input(\"Name 1: \")\n",
    "n2 = input(\"Name 2: \")\n",
    "n3 = input(\"Name 3: \")\n",
    "\n",
    "if n1 < n2 and n1 < n3:\n",
    "    print(n1)\n",
    "    if n2 < n3:\n",
    "        print(n2)\n",
    "        print(n3)\n",
    "    else:\n",
    "        print(n3)\n",
    "        print(n2)\n",
    "elif n2 < n1 and n2 < n3:\n",
    "    print(n2)\n",
    "    if n1 < n3:\n",
    "        print(n1)\n",
    "        print(n3)\n",
    "    else:\n",
    "        print(n3)\n",
    "        print(n1)\n",
    "else:\n",
    "    print(n3)\n",
    "    if n1 < n2:\n",
    "        print(n1)\n",
    "        print(n2)\n",
    "    else:\n",
    "        print(n2)\n",
    "        print(n1)"
   ]
  },
  {
   "cell_type": "code",
   "execution_count": 10,
   "metadata": {},
   "outputs": [
    {
     "name": "stdin",
     "output_type": "stream",
     "text": [
      "Name 1:  T\n",
      "Name 2:  A\n",
      "Name 3:  B\n"
     ]
    },
    {
     "name": "stdout",
     "output_type": "stream",
     "text": [
      "A\n",
      "B\n",
      "T\n"
     ]
    }
   ],
   "source": [
    "namen = [input(\"Name 1: \"), \n",
    "         input(\"Name 2: \"), \n",
    "         input(\"Name 3: \")]\n",
    "\n",
    "namen_sortiert = sorted(namen)\n",
    "\n",
    "for i in range(0, len(namen_sortiert)):\n",
    "    print(namen_sortiert[i])"
   ]
  },
  {
   "cell_type": "code",
   "execution_count": 11,
   "metadata": {},
   "outputs": [
    {
     "name": "stdin",
     "output_type": "stream",
     "text": [
      "Name 1:  Albert\n",
      "Name 2:  Tim\n",
      "Name 3:  Peter\n"
     ]
    },
    {
     "name": "stdout",
     "output_type": "stream",
     "text": [
      "Albert\n",
      "Peter\n",
      "Tim\n"
     ]
    }
   ],
   "source": [
    "namen = [input(\"Name 1: \"), \n",
    "         input(\"Name 2: \"), \n",
    "         input(\"Name 3: \")]\n",
    "\n",
    "namen_sortiert = sorted(namen)\n",
    "\n",
    "for name in namen_sortiert:\n",
    "    print(name)"
   ]
  },
  {
   "cell_type": "markdown",
   "metadata": {},
   "source": [
    "## Aufgabe 3: Teiler (10 Punkte)\n",
    "Schreiben Sie ein Programm und speichern Sie es als *Teiler.py* ab. Ihr Programm soll über die **input-Funktion** eine Ganzzahl vom Benutzer einlesen und dann alle Teiler dieser Zahl untereinander in aufsteigender Reihenfolge ausgeben. Die Zahl selbst wird dabei nicht mehr als Teiler gezählt."
   ]
  },
  {
   "cell_type": "code",
   "execution_count": 14,
   "metadata": {},
   "outputs": [
    {
     "name": "stdin",
     "output_type": "stream",
     "text": [
      "Geben Sie eine Ganzzahl ein:  10\n"
     ]
    },
    {
     "name": "stdout",
     "output_type": "stream",
     "text": [
      "1\n",
      "2\n",
      "5\n"
     ]
    }
   ],
   "source": [
    "num = int(input(\"Geben Sie eine Ganzzahl ein: \"))\n",
    "\n",
    "for i in range(1, num):\n",
    "    if num % i == 0:\n",
    "        print(i)"
   ]
  },
  {
   "cell_type": "markdown",
   "metadata": {},
   "source": [
    "## Diverses"
   ]
  },
  {
   "cell_type": "markdown",
   "metadata": {},
   "source": [
    "### Vereinfachen\n",
    "Vereinfachen Sie folgende Zeilen Code:\n",
    "    \n",
    "    import sys\n",
    "\n",
    "    zahl = input(\"Geben Sie eine Zahl ein: \")\n",
    "    zahl = int(zahl)\n",
    "\n",
    "    teiler = input(\"Geben Sie einen Teiler ein: \")\n",
    "    teiler = int(teiler)\n",
    "\n",
    "    for i in range(zahl - teiler):\n",
    "        x = int(teiler + i)\n",
    "        print(zahl, \"mod\", x, \"=\", int(zahl % x))"
   ]
  },
  {
   "cell_type": "code",
   "execution_count": 17,
   "metadata": {},
   "outputs": [
    {
     "data": {
      "text/plain": [
       "[0, 1, 2]"
      ]
     },
     "execution_count": 17,
     "metadata": {},
     "output_type": "execute_result"
    }
   ],
   "source": [
    "list(range(3))"
   ]
  },
  {
   "cell_type": "code",
   "execution_count": 20,
   "metadata": {},
   "outputs": [
    {
     "name": "stdin",
     "output_type": "stream",
     "text": [
      "Geben Sie eine Zahl ein:  30\n",
      "Geben Sie einen Teiler ein:  15\n"
     ]
    },
    {
     "name": "stdout",
     "output_type": "stream",
     "text": [
      "30 mod 15 = 0\n",
      "30 mod 16 = 14\n",
      "30 mod 17 = 13\n",
      "30 mod 18 = 12\n",
      "30 mod 19 = 11\n",
      "30 mod 20 = 10\n",
      "30 mod 21 = 9\n",
      "30 mod 22 = 8\n",
      "30 mod 23 = 7\n",
      "30 mod 24 = 6\n",
      "30 mod 25 = 5\n",
      "30 mod 26 = 4\n",
      "30 mod 27 = 3\n",
      "30 mod 28 = 2\n",
      "30 mod 29 = 1\n"
     ]
    }
   ],
   "source": [
    "import sys\n",
    "\n",
    "zahl = int(input(\"Geben Sie eine Zahl ein: \"))\n",
    "teiler = int(input(\"Geben Sie einen Teiler ein: \"))\n",
    "\n",
    "for i in range(teiler, zahl):\n",
    "    print(zahl, \"mod\", i, \"=\", zahl % i)"
   ]
  },
  {
   "cell_type": "markdown",
   "metadata": {},
   "source": [
    "### Schleifen\n",
    "Warum ist folgende Schleife nicht zu empfehlen?"
   ]
  },
  {
   "cell_type": "code",
   "execution_count": 26,
   "metadata": {},
   "outputs": [
    {
     "name": "stdin",
     "output_type": "stream",
     "text": [
      "Wie viel Schleifendurchläufe?:  3\n"
     ]
    },
    {
     "name": "stdout",
     "output_type": "stream",
     "text": [
      "1. Schleifendurchlauf\n",
      "2. Schleifendurchlauf\n",
      "3. Schleifendurchlauf\n"
     ]
    }
   ],
   "source": [
    "count = int(input(\"Wie viel Schleifendurchläufe?: \"))\n",
    "i = 1\n",
    "\n",
    "while count != 0:        \n",
    "    print(str(i) + \". Schleifendurchlauf\")\n",
    "    \n",
    "    i += 1\n",
    "    count -= 1"
   ]
  },
  {
   "cell_type": "code",
   "execution_count": 27,
   "metadata": {},
   "outputs": [
    {
     "name": "stdin",
     "output_type": "stream",
     "text": [
      "Wie viel Schleifendurchläufe?:  3\n"
     ]
    },
    {
     "name": "stdout",
     "output_type": "stream",
     "text": [
      "1. Schleifendurchlauf\n",
      "2. Schleifendurchlauf\n",
      "3. Schleifendurchlauf\n"
     ]
    }
   ],
   "source": [
    "count = int(input(\"Wie viel Schleifendurchläufe?: \"))\n",
    "\n",
    "for i in range(1, count+1):\n",
    "    print(str(i) + \". Schleifendurchlauf\")"
   ]
  },
  {
   "cell_type": "markdown",
   "metadata": {},
   "source": [
    "### Überführen von while-Schleife in for-Schleife\n",
    "Wie überführt man folgende while-Schleife in eine for-Schleife?\n",
    "\n",
    "    i = 1\n",
    "    while i <= 3:\n",
    "        print(str(i) + \". Schleifendurchlauf\")\n",
    "        i += 1"
   ]
  },
  {
   "cell_type": "code",
   "execution_count": 28,
   "metadata": {},
   "outputs": [
    {
     "name": "stdout",
     "output_type": "stream",
     "text": [
      "1. Schleifendurchlauf\n",
      "2. Schleifendurchlauf\n",
      "3. Schleifendurchlauf\n"
     ]
    }
   ],
   "source": [
    "for i in range(1, 4):\n",
    "    print(str(i) + \". Schleifendurchlauf\")"
   ]
  },
  {
   "cell_type": "code",
   "execution_count": 32,
   "metadata": {},
   "outputs": [
    {
     "name": "stdout",
     "output_type": "stream",
     "text": [
      "[5]\n"
     ]
    }
   ],
   "source": [
    "arr = []\n",
    "\n",
    "x = 15//3\n",
    "\n",
    "#arr.append(x)\n",
    "\n",
    "arr += [x]\n",
    "\n",
    "print(arr)"
   ]
  },
  {
   "cell_type": "code",
   "execution_count": null,
   "metadata": {},
   "outputs": [],
   "source": []
  }
 ],
 "metadata": {
  "kernelspec": {
   "display_name": "Python 3",
   "language": "python",
   "name": "python3"
  },
  "language_info": {
   "codemirror_mode": {
    "name": "ipython",
    "version": 3
   },
   "file_extension": ".py",
   "mimetype": "text/x-python",
   "name": "python",
   "nbconvert_exporter": "python",
   "pygments_lexer": "ipython3",
   "version": "3.6.8"
  }
 },
 "nbformat": 4,
 "nbformat_minor": 4
}
