{
 "cells": [
  {
   "cell_type": "markdown",
   "metadata": {},
   "source": [
    "# Grundlegende Programmiertechniken - Blatt 6"
   ]
  },
  {
   "cell_type": "markdown",
   "metadata": {},
   "source": [
    "## Aufgabe 1: I/O (15 Punkte)\n",
    "Schreiben Sie ein Programm und speichern Sie es als *JedeZweite.py*. Ihr Programm soll\n",
    "alle über die Standardeingabe (sys.stdin) verfügbaren Zeilen einlesen und in einem Array\n",
    "speichern. Dann soll über die Standardausgabe nur jede zweite Zeile ausgegeben werden.\n",
    "\n",
    "*Tipp: Legen Sie zum Testen eine Textdatei mit mehreren Zeilen Text an und leiten Sie beim\n",
    "Programmaufruf die Standardeingabe auf diese Datei um.*"
   ]
  },
  {
   "cell_type": "code",
   "execution_count": 4,
   "metadata": {},
   "outputs": [
    {
     "name": "stdout",
     "output_type": "stream",
     "text": [
      "Overwriting JedeZweite_v1.py\n"
     ]
    }
   ],
   "source": [
    "%%writefile JedeZweite_v1.py\n",
    "import sys\n",
    "\n",
    "# zeilen = []\n",
    "# for zeile in sys.stdin:\n",
    "#     zeilen += [zeile]\n",
    "\n",
    "zeilen      = sys.stdin.readlines()\n",
    "jede_zweite = zeilen[1::2]\n",
    "\n",
    "sys.stdout.writelines(jede_zweite)"
   ]
  },
  {
   "cell_type": "code",
   "execution_count": 6,
   "metadata": {},
   "outputs": [
    {
     "name": "stdout",
     "output_type": "stream",
     "text": [
      "Overwriting JedeZweite_v2.py\n"
     ]
    }
   ],
   "source": [
    "%%writefile JedeZweite_v2.py\n",
    "import sys\n",
    "\n",
    "zeilen = sys.stdin.readlines()\n",
    "\n",
    "for i in range(1, len(zeilen), 2):\n",
    "    print(zeilen[i], end=\"\")"
   ]
  },
  {
   "cell_type": "markdown",
   "metadata": {},
   "source": [
    "## Aufgabe 2: Dateiausgabe (15 Punkte)\n",
    "Schreiben Sie ein Programm und speichern Sie es als *Ausgabe.py*. Ihr Programm soll sich\n",
    "bei Ausführung selbst ausgeben."
   ]
  },
  {
   "cell_type": "code",
   "execution_count": 8,
   "metadata": {},
   "outputs": [
    {
     "name": "stdout",
     "output_type": "stream",
     "text": [
      "Overwriting Ausgabe_v1.py\n"
     ]
    }
   ],
   "source": [
    "%%writefile Ausgabe_v1.py\n",
    "with open(\"Ausgabe_v1.py\", \"r\") as datei:\n",
    "    for line in datei:\n",
    "        print(line, end=\"\")"
   ]
  },
  {
   "cell_type": "code",
   "execution_count": 10,
   "metadata": {},
   "outputs": [
    {
     "name": "stdout",
     "output_type": "stream",
     "text": [
      "Overwriting Ausgabe_v2.py\n"
     ]
    }
   ],
   "source": [
    "%%writefile Ausgabe_v2.py\n",
    "import sys\n",
    "\n",
    "with open(\"Ausgabe_v2.py\", \"r\") as datei:\n",
    "    sys.stdout.writelines(datei.readlines())"
   ]
  },
  {
   "cell_type": "markdown",
   "metadata": {},
   "source": [
    "## Aufgabe 3: Primzahlen (5 Punkte)\n",
    "Generieren Sie eine Textdatei, welche die ersten 500 Primzahlen enthält. Nennen Sie die\n",
    "Datei *Primzahlen.txt*. Es sollte jeweils nur eine Primzahl in einer Zeile stehen."
   ]
  },
  {
   "cell_type": "code",
   "execution_count": 14,
   "metadata": {},
   "outputs": [],
   "source": [
    "def istPrim(n):\n",
    "    if n < 2:\n",
    "        return False\n",
    "    for i in range(2, int(n**0.5) + 1):\n",
    "        if n % i == 0:\n",
    "            return False\n",
    "    return True\n",
    "\n",
    "prim_count = 0\n",
    "zahl       = 2\n",
    "\n",
    "with open(\"Primzahlen.txt\", \"w\") as datei:\n",
    "    while prim_count < 500:\n",
    "        if istPrim(zahl):\n",
    "            datei.write(str(zahl) + \"\\n\")\n",
    "            prim_count += 1\n",
    "        zahl += 1"
   ]
  },
  {
   "cell_type": "code",
   "execution_count": null,
   "metadata": {},
   "outputs": [],
   "source": [
    "#datei.writelines([\"Hallo\", \"Welt\"])\n",
    "#datei.write(\"Hallo\" + \"\\n\")\n",
    "#datei.write(\"Welt\")\n",
    "#datei.write(\"Test\")\n",
    "\n",
    "# Datei\n",
    "#Hallo\n",
    "#Welt"
   ]
  },
  {
   "cell_type": "markdown",
   "metadata": {},
   "source": [
    "# Diverses"
   ]
  },
  {
   "cell_type": "markdown",
   "metadata": {},
   "source": [
    "## Zusatzaufgabe: Palindrom\n",
    "Schreiben Sie eine rekursive Funktion, die True zurückgibt wenn ein eingegebener String ein Palindrom ist und andernfalls False zurückgibt.\n",
    "\n",
    "*Tipp: Ein Palindrom ist ein Wort, welches von hinten gelesen wieder das selbe Wort ergibt.*"
   ]
  },
  {
   "cell_type": "code",
   "execution_count": 24,
   "metadata": {},
   "outputs": [
    {
     "name": "stdout",
     "output_type": "stream",
     "text": [
      "True\n"
     ]
    }
   ],
   "source": [
    "def istPalindrom(wort):\n",
    "    if wort == \"\":\n",
    "        return True\n",
    "    if wort[0].lower() != wort[-1].lower():\n",
    "        return False\n",
    "    \n",
    "    return istPalindrom(wort[1:-1])\n",
    "    \n",
    "print(istPalindrom(\"Rentner\"))"
   ]
  },
  {
   "cell_type": "markdown",
   "metadata": {},
   "source": [
    "Die Rekursion läuft wie folgt ab:\n",
    "    \n",
    "    istPalindrom(\"Rentner\")\n",
    "    |\n",
    "    |   istPalindrom(\"entne\")\n",
    "    |   |\n",
    "    |   |   istPalindrom(\"ntn\")\n",
    "    |   |   |\n",
    "    |   |   |   istPalindrom(\"t\")\n",
    "    |   |   |   |\n",
    "    |   |   |   |   istPalindrom(\"\") == True  ->  Basisfall!!!\n",
    "    |   |   |   |\n",
    "    |   |   |   == True\n",
    "    |   |   |\n",
    "    |   |   == True\n",
    "    |   |\n",
    "    |   == True\n",
    "    |\n",
    "    == True"
   ]
  },
  {
   "cell_type": "code",
   "execution_count": null,
   "metadata": {
    "jupyter": {
     "source_hidden": true
    }
   },
   "outputs": [],
   "source": []
  }
 ],
 "metadata": {
  "kernelspec": {
   "display_name": "Python 3",
   "language": "python",
   "name": "python3"
  },
  "language_info": {
   "codemirror_mode": {
    "name": "ipython",
    "version": 3
   },
   "file_extension": ".py",
   "mimetype": "text/x-python",
   "name": "python",
   "nbconvert_exporter": "python",
   "pygments_lexer": "ipython3",
   "version": "3.6.9"
  }
 },
 "nbformat": 4,
 "nbformat_minor": 4
}
