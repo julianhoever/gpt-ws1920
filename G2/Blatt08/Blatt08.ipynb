{
 "cells": [
  {
   "cell_type": "markdown",
   "metadata": {},
   "source": [
    "# Grundlegende Programmiertechniken - Blatt 8"
   ]
  },
  {
   "cell_type": "markdown",
   "metadata": {},
   "source": [
    "## Aufgabe 1: Funktionen (5 Punkte)\n",
    "Schreiben Sie ein Programm und speichern Sie es als *Funktionen.py*. In Ihrem Programm sollen Sie eine Ganzzahl als **Programmparameter** einlesen. In den folgenden Aufgabenteilen sollen Sie Ihrem Programm verschiedene Methoden hinzufügen. Geben Sie außerdem das Ergebnis jedes Methodenaufrufs für die eingelesene Zahl aus."
   ]
  },
  {
   "cell_type": "markdown",
   "metadata": {},
   "source": [
    "### Aufgabe 1.1: Quersumme (10 Punkte)\n",
    "Schreiben Sie eine Methode, die eine Ganzzahl entgegennimmt und die Quersumme dieser Zahl zurückgibt.\n",
    "\n",
    "*Tipp: Die Quersumme einer Zahl ist die Summe der Ziffern dieser Zahl.*"
   ]
  },
  {
   "cell_type": "code",
   "execution_count": 8,
   "metadata": {},
   "outputs": [],
   "source": [
    "def quersumme(n):\n",
    "    qs = 0\n",
    "    while n != 0:\n",
    "        qs += n % 10\n",
    "        n //= 10\n",
    "    return qs"
   ]
  },
  {
   "cell_type": "code",
   "execution_count": 46,
   "metadata": {},
   "outputs": [],
   "source": [
    "def quersummeRekursiv(n):\n",
    "    if n < 10:\n",
    "        return n\n",
    "    return quersummeRekursiv(n // 10) + (n % 10)"
   ]
  },
  {
   "cell_type": "code",
   "execution_count": 50,
   "metadata": {},
   "outputs": [
    {
     "name": "stdout",
     "output_type": "stream",
     "text": [
      "11\n"
     ]
    }
   ],
   "source": [
    "print(quersummeRekursiv(164))"
   ]
  },
  {
   "cell_type": "code",
   "execution_count": 12,
   "metadata": {},
   "outputs": [],
   "source": [
    "def quersumme(n):\n",
    "    qs = 0\n",
    "    n = str(n)\n",
    "    for zeichen in n:\n",
    "        qs += int(zeichen)\n",
    "    return qs"
   ]
  },
  {
   "cell_type": "code",
   "execution_count": 13,
   "metadata": {},
   "outputs": [
    {
     "name": "stdout",
     "output_type": "stream",
     "text": [
      "17\n"
     ]
    }
   ],
   "source": [
    "print(quersumme(845))"
   ]
  },
  {
   "cell_type": "markdown",
   "metadata": {},
   "source": [
    "### Aufgabe 1.2: Primfaktorzerlegung (15 Punkte)\n",
    "Schreiben Sie eine Methode, die eine Ganzzahl entgegennimmt und die Primfaktorzerlegung dieser Zahl in Form eines Arrays mit Ganzzahlen zurückgibt. Um herauszufinden, ob eine Zahl eine Primzahl ist, dürfen Sie die Primzahl-Methode aus der Vorlesung benutzen. *Beachten Sie, dass eine Zahl mehrfach in der Primfaktorzerlegung vorkommen kann (4 = 2*2).*\n",
    "\n",
    "Zur Erinnerung, die Primzahl-Methode aus der Vorlesung lautet:"
   ]
  },
  {
   "cell_type": "code",
   "execution_count": 14,
   "metadata": {},
   "outputs": [],
   "source": [
    "def istPrimzahl(n):\n",
    "    if n < 2:\n",
    "        return False\n",
    "    i = 2\n",
    "    while i*i <= n:\n",
    "        if n % i == 0:\n",
    "            return False\n",
    "        i += 1\n",
    "    return True"
   ]
  },
  {
   "cell_type": "code",
   "execution_count": 37,
   "metadata": {},
   "outputs": [],
   "source": [
    "def primfaktoren(n):\n",
    "    if istPrimzahl(n):\n",
    "        return [n]\n",
    "    faktoren = []\n",
    "    for i in range(2, n):\n",
    "        if n == 1:\n",
    "            break\n",
    "        if n % i == 0 and istPrimzahl(i):\n",
    "            while n % i == 0:\n",
    "                faktoren += [i]\n",
    "                n //= i\n",
    "    return faktoren"
   ]
  },
  {
   "cell_type": "code",
   "execution_count": 35,
   "metadata": {},
   "outputs": [],
   "source": [
    "def primfaktoren(n):\n",
    "    if istPrimzahl(n):\n",
    "        return [n]\n",
    "    faktoren = []\n",
    "    i = 2\n",
    "    while n > 1:\n",
    "        if n % i == 0 and istPrimzahl(i):\n",
    "            faktoren += [i]\n",
    "            n //= i\n",
    "        else:\n",
    "            i += 1\n",
    "    return faktoren"
   ]
  },
  {
   "cell_type": "code",
   "execution_count": 40,
   "metadata": {},
   "outputs": [
    {
     "name": "stdout",
     "output_type": "stream",
     "text": [
      "[3, 3, 7, 37, 333667]\n"
     ]
    }
   ],
   "source": [
    "print(primfaktoren(777777777))"
   ]
  },
  {
   "cell_type": "markdown",
   "metadata": {},
   "source": [
    "### Aufgabe 1.3: Perfekte Zahlen (10 Punkte)\n",
    "Eine perfekte Zahl ist eine Zahl, die gleich der Summe ihrer Teiler ist, z.B. 6 = 1 + 2 + 3. Schreiben Sie eine Methode, die eine Ganzzahl entgegennimmt und überprüft, ob die Zahl eine perfekte Zahl ist. Wenn die Zahl eine perfekte Zahl ist, soll die Methode *True* zurückgeben, ansonsten *False*."
   ]
  },
  {
   "cell_type": "code",
   "execution_count": 42,
   "metadata": {},
   "outputs": [],
   "source": [
    "def istPerfekt(n):\n",
    "    summe = 0\n",
    "    \n",
    "    for i in range(1, n):\n",
    "        if n % i == 0:\n",
    "            summe += i\n",
    "        \n",
    "    return summe == n"
   ]
  },
  {
   "cell_type": "markdown",
   "metadata": {},
   "source": [
    "**--> Hauptprogramm:**"
   ]
  },
  {
   "cell_type": "code",
   "execution_count": 45,
   "metadata": {},
   "outputs": [
    {
     "name": "stdout",
     "output_type": "stream",
     "text": [
      "Writing Funktionen.py\n"
     ]
    }
   ],
   "source": [
    "%%writefile Funktionen.py\n",
    "import sys\n",
    "\n",
    "def quersumme(n):\n",
    "    qs = 0\n",
    "    while n != 0:\n",
    "        qs += n % 10\n",
    "        n //= 10\n",
    "    return qs\n",
    "\n",
    "def istPrimzahl(n):\n",
    "    if n < 2:\n",
    "        return False\n",
    "    i = 2\n",
    "    while i*i <= n:\n",
    "        if n % i == 0:\n",
    "            return False\n",
    "        i += 1\n",
    "    return True\n",
    "\n",
    "def primfaktoren(n):\n",
    "    if istPrimzahl(n):\n",
    "        return [n]\n",
    "    faktoren = []\n",
    "    i = 2\n",
    "    while n > 1:\n",
    "        if n % i == 0 and istPrimzahl(i):\n",
    "            faktoren += [i]\n",
    "            n //= i\n",
    "        else:\n",
    "            i += 1\n",
    "    return faktoren\n",
    "\n",
    "def istPerfekt(n):\n",
    "    summe = 0\n",
    "    \n",
    "    for i in range(1, n):\n",
    "        if n % i == 0:\n",
    "            summe += i\n",
    "        \n",
    "    return summe == n\n",
    "\n",
    "zahl = int(sys.argv[1])\n",
    "\n",
    "print(\"Quersumme:\", quersumme(zahl))\n",
    "print(\"Primfaktoren:\", primfaktoren(zahl))\n",
    "print(\"Perfekt:\", istPerfekt(zahl))"
   ]
  },
  {
   "cell_type": "code",
   "execution_count": null,
   "metadata": {},
   "outputs": [],
   "source": []
  }
 ],
 "metadata": {
  "kernelspec": {
   "display_name": "Python 3",
   "language": "python",
   "name": "python3"
  },
  "language_info": {
   "codemirror_mode": {
    "name": "ipython",
    "version": 3
   },
   "file_extension": ".py",
   "mimetype": "text/x-python",
   "name": "python",
   "nbconvert_exporter": "python",
   "pygments_lexer": "ipython3",
   "version": "3.6.9"
  }
 },
 "nbformat": 4,
 "nbformat_minor": 4
}
