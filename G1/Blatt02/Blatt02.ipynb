{
 "cells": [
  {
   "cell_type": "markdown",
   "metadata": {},
   "source": [
    "# Grundlegende Programmiertechniken - Blatt 2"
   ]
  },
  {
   "cell_type": "markdown",
   "metadata": {},
   "source": [
    "## Aufgabe 1: Zahlenvergleich (10 Punkte)\n",
    "Schreiben Sie ein Programm und speichern Sie es als *Vergleich.py* ab. Ihr Programm soll drei Ganzzahlen als Programmparameter erhalten. Wenn alle drei Zahlen übereinstimmen, soll das Programm ”Gleich“ ausgeben, wenn die Zahlen in sortierter Reihenfolge eingegeben wurden, soll entsprechend ”Aufsteigend sortiert“ bzw. ”Absteigend sortiert“ ausgegeben werden, ansonsten ”Unsortiert“. Als sortiert gelten auch Eingaben, bei denen zwei Zahlen übereinstimmen (z.B. 2 2 3 wäre aufsteigend sortiert).\n",
    "\n",
    "**Hinweis:** Das Schlüsselwort elif kombiniert die Funktionalität von else und if. Sie dürfen es hier, wenn Sie es für angemessen halten, benutzen."
   ]
  },
  {
   "cell_type": "code",
   "execution_count": 1,
   "metadata": {},
   "outputs": [
    {
     "name": "stdout",
     "output_type": "stream",
     "text": [
      "Writing Vergleich.py\n"
     ]
    }
   ],
   "source": [
    "%%writefile Vergleich.py\n",
    "import sys\n",
    "\n",
    "a = int(sys.argv[1])\n",
    "b = int(sys.argv[2])\n",
    "c = int(sys.argv[3])\n",
    "\n",
    "if a == b == c:\n",
    "    print(\"Gleich\")\n",
    "elif a <= b <= c:\n",
    "    print(\"Aufsteigend sortiert\")\n",
    "elif a >= b >= c:\n",
    "    print(\"Absteigend sortiert\")\n",
    "else:\n",
    "    print(\"Unsortiert\")"
   ]
  },
  {
   "cell_type": "markdown",
   "metadata": {},
   "source": [
    "## Aufgabe 2: Namen sortiern (10 Punkte)\n",
    "Schreiben Sie ein Programm und speichern Sie es als *Sortieren.py* ab. Ihr Programm soll **drei verschiedene** Namen über die **input-Funktion** einlesen. Sie dürfen davon ausgehen, dass die Namen verschieden sind und müssen dies nicht überprüfen. Ihr Ziel ist es, die Namen alphabetisch sortiert auszugeben, wobei jeder Name in einer eigenen Zeile stehen soll. Insgesamt erwarten wir von Ihrem Programm also 3 Zeilen Ausgabe, wobei jede Zeile genau einen Namen (und sonst nichts) beinhaltet."
   ]
  },
  {
   "cell_type": "code",
   "execution_count": 3,
   "metadata": {},
   "outputs": [
    {
     "data": {
      "text/plain": [
       "False"
      ]
     },
     "execution_count": 3,
     "metadata": {},
     "output_type": "execute_result"
    }
   ],
   "source": [
    "\"Tim\" < \"Albert\""
   ]
  },
  {
   "cell_type": "code",
   "execution_count": 4,
   "metadata": {},
   "outputs": [
    {
     "name": "stdin",
     "output_type": "stream",
     "text": [
      "Geben Sie einen Namen ein:  Tim\n",
      "Geben Sie einen Namen ein:  Albert\n",
      "Geben Sie einen Namen ein:  Ben\n"
     ]
    },
    {
     "name": "stdout",
     "output_type": "stream",
     "text": [
      "Albert\n",
      "Ben\n",
      "Tim\n"
     ]
    }
   ],
   "source": [
    "n1 = input(\"Geben Sie einen Namen ein: \")\n",
    "n2 = input(\"Geben Sie einen Namen ein: \")\n",
    "n3 = input(\"Geben Sie einen Namen ein: \")\n",
    "\n",
    "if n1 < n2 and n1 < n3:\n",
    "    print(n1)\n",
    "    if n2 < n3:\n",
    "        print(n2)\n",
    "        print(n3)\n",
    "    else:\n",
    "        print(n3)\n",
    "        print(n2)\n",
    "elif n2 < n1 and n2 < n3:\n",
    "    print(n2)\n",
    "    if n1 < n3:\n",
    "        print(n1)\n",
    "        print(n3)\n",
    "    else:\n",
    "        print(n3)\n",
    "        print(n1)\n",
    "else:\n",
    "    print(n3)\n",
    "    if n1 < n2:\n",
    "        print(n1)\n",
    "        print(n2)\n",
    "    else:\n",
    "        print(n2)\n",
    "        print(n1)"
   ]
  },
  {
   "cell_type": "code",
   "execution_count": 8,
   "metadata": {},
   "outputs": [
    {
     "name": "stdin",
     "output_type": "stream",
     "text": [
      "Name: Tim\n",
      "Name: Ben\n",
      "Name: Albert\n"
     ]
    },
    {
     "name": "stdout",
     "output_type": "stream",
     "text": [
      "Albert\n",
      "Ben\n",
      "Tim\n"
     ]
    }
   ],
   "source": [
    "namen = [input(\"Name:\"), input(\"Name:\"), input(\"Name:\")]\n",
    "\n",
    "namen_sortiert = sorted(namen)\n",
    "\n",
    "for i in range(0, 3):\n",
    "    print(namen_sortiert[i])"
   ]
  },
  {
   "cell_type": "markdown",
   "metadata": {},
   "source": [
    "## Aufgabe 3: Teiler (10 Punkte)\n",
    "Schreiben Sie ein Programm und speichern Sie es als *Teiler.py* ab. Ihr Programm soll über die **input-Funktion** eine Ganzzahl vom Benutzer einlesen und dann alle Teiler dieser Zahl untereinander in aufsteigender Reihenfolge ausgeben. Die Zahl selbst wird dabei nicht mehr als Teiler gezählt."
   ]
  },
  {
   "cell_type": "code",
   "execution_count": 10,
   "metadata": {},
   "outputs": [
    {
     "name": "stdin",
     "output_type": "stream",
     "text": [
      "Zahl: 10\n"
     ]
    },
    {
     "name": "stdout",
     "output_type": "stream",
     "text": [
      "1\n",
      "2\n",
      "5\n"
     ]
    }
   ],
   "source": [
    "n = int(input(\"Zahl:\"))\n",
    "\n",
    "for i in range(1, n):\n",
    "    if n % i == 0:\n",
    "        print(i)"
   ]
  },
  {
   "cell_type": "markdown",
   "metadata": {},
   "source": [
    "## Diverses"
   ]
  },
  {
   "cell_type": "markdown",
   "metadata": {},
   "source": [
    "### Schleifen\n",
    "Warum ist folgende Schleife nicht zu empfehlen?"
   ]
  },
  {
   "cell_type": "code",
   "execution_count": 14,
   "metadata": {},
   "outputs": [
    {
     "name": "stdin",
     "output_type": "stream",
     "text": [
      "Wie viel Schleifendurchläufe?:  5\n"
     ]
    },
    {
     "name": "stdout",
     "output_type": "stream",
     "text": [
      "1. Schleifendurchlauf\n",
      "2. Schleifendurchlauf\n",
      "3. Schleifendurchlauf\n",
      "4. Schleifendurchlauf\n",
      "5. Schleifendurchlauf\n"
     ]
    }
   ],
   "source": [
    "count = int(input(\"Wie viel Schleifendurchläufe?: \"))\n",
    "i = 1\n",
    "\n",
    "while count != 0:        \n",
    "    print(str(i) + \". Schleifendurchlauf\")\n",
    "    \n",
    "    i += 1\n",
    "    count -= 1"
   ]
  },
  {
   "cell_type": "markdown",
   "metadata": {},
   "source": [
    "### Überführen von while-Schleife in for-Schleife\n",
    "Wie überführt man folgende while-Schleife in eine for-Schleife?"
   ]
  },
  {
   "cell_type": "code",
   "execution_count": 15,
   "metadata": {},
   "outputs": [
    {
     "name": "stdout",
     "output_type": "stream",
     "text": [
      "1. Schleifendurchlauf\n",
      "2. Schleifendurchlauf\n",
      "3. Schleifendurchlauf\n"
     ]
    }
   ],
   "source": [
    "i = 1\n",
    "while i <= 3:\n",
    "    print(str(i) + \". Schleifendurchlauf\")\n",
    "    i += 2"
   ]
  },
  {
   "cell_type": "code",
   "execution_count": 16,
   "metadata": {},
   "outputs": [
    {
     "name": "stdout",
     "output_type": "stream",
     "text": [
      "1. Schleifendurchlauf\n",
      "3. Schleifendurchlauf\n"
     ]
    }
   ],
   "source": [
    "for i in range(1, 4, 2):\n",
    "    print(str(i) + \". Schleifendurchlauf\")"
   ]
  },
  {
   "cell_type": "code",
   "execution_count": null,
   "metadata": {},
   "outputs": [],
   "source": []
  }
 ],
 "metadata": {
  "kernelspec": {
   "display_name": "Python 3",
   "language": "python",
   "name": "python3"
  },
  "language_info": {
   "codemirror_mode": {
    "name": "ipython",
    "version": 3
   },
   "file_extension": ".py",
   "mimetype": "text/x-python",
   "name": "python",
   "nbconvert_exporter": "python",
   "pygments_lexer": "ipython3",
   "version": "3.6.8"
  }
 },
 "nbformat": 4,
 "nbformat_minor": 4
}
