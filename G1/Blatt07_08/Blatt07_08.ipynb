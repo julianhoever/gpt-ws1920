{
 "cells": [
  {
   "cell_type": "markdown",
   "metadata": {},
   "source": [
    "# Grundlegende Programmiertechniken - Blatt 7"
   ]
  },
  {
   "cell_type": "markdown",
   "metadata": {},
   "source": [
    "## Aufgabe 1: Umdrehen (15 Punkte)\n",
    "Schreiben Sie ein Programm und speichern Sie es als *Umdrehen.py*. Ihr Programm erhält als **Programmparameter** den Namen einer Quelldatei. Dann soll es den Inhalt der Datei in umgekehrter Reihenfolge auf der Standardausgabe ausgeben.\n",
    "\n",
    "Tipp: Um auf einzelne Zeichen einer Zeichenkette z zugreifen zu können, können Sie z behandeln wie ein Array einzelner Zeichen. Das erste Zeichen wäre also beispielsweise z[0]."
   ]
  },
  {
   "cell_type": "code",
   "execution_count": 1,
   "metadata": {},
   "outputs": [
    {
     "name": "stdout",
     "output_type": "stream",
     "text": [
      "Writing Umdrehen.py\n"
     ]
    }
   ],
   "source": [
    "%%writefile Umdrehen.py\n",
    "import sys\n",
    "\n",
    "zeilen = []\n",
    "\n",
    "try:\n",
    "    with open(sys.argv[1], \"r\") as quelldatei:\n",
    "        zeilen = quelldatei.readlines()\n",
    "except:\n",
    "    print(\"Fehler beim lesen der Datei.\")\n",
    "else:\n",
    "    zeilen = zeilen[::-1]\n",
    "    \n",
    "    for zeile in zeilen:\n",
    "        print(zeile[::-1], end=\"\")"
   ]
  },
  {
   "cell_type": "markdown",
   "metadata": {},
   "source": [
    "## Aufgabe 2: Rechnen (15 Punkte)\n",
    "Schreiben Sie ein Programm und speichern Sie es als *Rechnen.py*. Ihr Programm soll beliebig viele Kommazahlen über die Standardeingabe (sys.stdin) erhalten und diese in einem Array speichern. Anschließend sollen Durchschnitt, Minimum und Maximum der Zahlen ausgegeben werden. Schreiben Sie dazu für jede Rechnung (Durchschnitt, Minimum, Maximum) eine **eigene Methode**, insgesamt also drei Methoden."
   ]
  },
  {
   "cell_type": "code",
   "execution_count": 2,
   "metadata": {},
   "outputs": [
    {
     "name": "stdout",
     "output_type": "stream",
     "text": [
      "Writing Rechnen.py\n"
     ]
    }
   ],
   "source": [
    "%%writefile Rechnen.py\n",
    "import sys\n",
    "\n",
    "def durchschnitt(arr):\n",
    "    return sum(arr)/len(arr)\n",
    "\n",
    "def minimum(arr):\n",
    "    curr_min = arr[0]\n",
    "    \n",
    "    for ele in arr:\n",
    "        if ele < curr_min:\n",
    "            curr_min = ele\n",
    "    \n",
    "    return curr_min\n",
    "\n",
    "def maximum(arr):\n",
    "    curr_max = arr[0]\n",
    "    \n",
    "    for ele in arr:\n",
    "        if ele > curr_max:\n",
    "            curr_max = ele\n",
    "    \n",
    "    return curr_max\n",
    "\n",
    "\n",
    "zahlen = []\n",
    "for zeile in sys.stdin:\n",
    "    zahlen += [float(zeile)]\n",
    "    \n",
    "print(\"Durchschnitt:\", durchschnitt(zahlen))\n",
    "print(\"Minimum:\", minimum(zahlen))\n",
    "print(\"Maximum:\", maximum(zahlen))"
   ]
  },
  {
   "cell_type": "markdown",
   "metadata": {},
   "source": [
    "# Grundlegende Programmiertechniken - Blatt 8"
   ]
  },
  {
   "cell_type": "markdown",
   "metadata": {},
   "source": [
    "## Aufgabe 1: Funktionen (5 Punkte)\n",
    "Schreiben Sie ein Programm und speichern Sie es als *Funktionen.py*. In Ihrem Programm sollen Sie eine Ganzzahl als **Programmparameter** einlesen. In den folgenden Aufgabenteilen sollen Sie Ihrem Programm verschiedene Methoden hinzufügen. Geben Sie außerdem das Ergebnis jedes Methodenaufrufs für die eingelesene Zahl aus."
   ]
  },
  {
   "cell_type": "markdown",
   "metadata": {},
   "source": [
    "### Aufgabe 1.1: Quersumme (10 Punkte)\n",
    "Schreiben Sie eine Methode, die eine Ganzzahl entgegennimmt und die Quersumme dieser Zahl zurückgibt.\n",
    "\n",
    "*Tipp: Die Quersumme einer Zahl ist die Summe der Ziffern dieser Zahl.*"
   ]
  },
  {
   "cell_type": "code",
   "execution_count": 4,
   "metadata": {},
   "outputs": [],
   "source": [
    "def quersumme(n):\n",
    "    qs = 0\n",
    "    while n != 0:\n",
    "        qs += n % 10\n",
    "        n //= 10\n",
    "    return qs"
   ]
  },
  {
   "cell_type": "markdown",
   "metadata": {},
   "source": [
    "### Aufgabe 1.2: Primfaktorzerlegung (15 Punkte)\n",
    "Schreiben Sie eine Methode, die eine Ganzzahl entgegennimmt und die Primfaktorzerlegung dieser Zahl in Form eines Arrays mit Ganzzahlen zurückgibt. Um herauszufinden, ob eine Zahl eine Primzahl ist, dürfen Sie die Primzahl-Methode aus der Vorlesung benutzen. *Beachten Sie, dass eine Zahl mehrfach in der Primfaktorzerlegung vorkommen kann (4 = 2*2).*\n",
    "\n",
    "Zur Erinnerung, die Primzahl-Methode aus der Vorlesung lautet:"
   ]
  },
  {
   "cell_type": "code",
   "execution_count": 5,
   "metadata": {},
   "outputs": [],
   "source": [
    "def istPrimzahl(n):\n",
    "    if n < 2:\n",
    "        return False\n",
    "    i = 2\n",
    "    while i*i <= n:\n",
    "        if n % i == 0:\n",
    "            return False\n",
    "        i += 1\n",
    "    return True"
   ]
  },
  {
   "cell_type": "code",
   "execution_count": 10,
   "metadata": {},
   "outputs": [],
   "source": [
    "def primfaktoren(n):\n",
    "    if istPrimzahl(n):\n",
    "        return [n]\n",
    "    \n",
    "    faktoren = []\n",
    "    i = 2\n",
    "    while n > 1:\n",
    "        if n % i == 0:\n",
    "            faktoren += [i]\n",
    "            n //= i\n",
    "        else:\n",
    "            i += 1\n",
    "    \n",
    "    return faktoren"
   ]
  },
  {
   "cell_type": "markdown",
   "metadata": {},
   "source": [
    "### Aufgabe 1.3: Perfekte Zahlen (10 Punkte)\n",
    "Eine perfekte Zahl ist eine Zahl, die gleich der Summe ihrer Teiler ist, z.B. 6 = 1 + 2 + 3. Schreiben Sie eine Methode, die eine Ganzzahl entgegennimmt und überprüft, ob die Zahl eine perfekte Zahl ist. Wenn die Zahl eine perfekte Zahl ist, soll die Methode *True* zurückgeben, ansonsten *False*."
   ]
  },
  {
   "cell_type": "code",
   "execution_count": null,
   "metadata": {},
   "outputs": [],
   "source": [
    "def istPerfekt(n):\n",
    "    summe = 0\n",
    "    for i in range(1, n):\n",
    "        if n % i == 0:\n",
    "            summe += i\n",
    "            \n",
    "    return summe == n"
   ]
  },
  {
   "cell_type": "markdown",
   "metadata": {},
   "source": [
    "**--> Hauptprogramm:**"
   ]
  },
  {
   "cell_type": "code",
   "execution_count": 11,
   "metadata": {},
   "outputs": [
    {
     "name": "stdout",
     "output_type": "stream",
     "text": [
      "Writing Funktionen.py\n"
     ]
    }
   ],
   "source": [
    "%%writefile Funktionen.py\n",
    "import sys\n",
    "\n",
    "def quersumme(n):\n",
    "    qs = 0\n",
    "    while n != 0:\n",
    "        qs += n % 10\n",
    "        n //= 10\n",
    "    return qs\n",
    "\n",
    "def istPrimzahl(n):\n",
    "    if n < 2:\n",
    "        return False\n",
    "    i = 2\n",
    "    while i*i <= n:\n",
    "        if n % i == 0:\n",
    "            return False\n",
    "        i += 1\n",
    "    return True\n",
    "\n",
    "def primfaktoren(n):\n",
    "    if istPrimzahl(n):\n",
    "        return [n]\n",
    "    \n",
    "    faktoren = []\n",
    "    i = 2\n",
    "    while n > 1:\n",
    "        if n % i == 0:\n",
    "            faktoren += [i]\n",
    "            n //= i\n",
    "        else:\n",
    "            i += 1\n",
    "    \n",
    "    return faktoren\n",
    "\n",
    "def istPerfekt(n):\n",
    "    summe = 0\n",
    "    for i in range(1, n):\n",
    "        if n % i == 0:\n",
    "            summe += i\n",
    "            \n",
    "    return summe == n\n",
    "\n",
    "zahl = int(sys.argv[1])\n",
    "print(\"Quersumme:\", quersumme(zahl))\n",
    "print(\"Primfaktoren:\", primfaktoren(zahl))\n",
    "print(\"Ist perfekt:\", istPerfekt(zahl))"
   ]
  },
  {
   "cell_type": "code",
   "execution_count": null,
   "metadata": {},
   "outputs": [],
   "source": []
  }
 ],
 "metadata": {
  "kernelspec": {
   "display_name": "Python 3",
   "language": "python",
   "name": "python3"
  },
  "language_info": {
   "codemirror_mode": {
    "name": "ipython",
    "version": 3
   },
   "file_extension": ".py",
   "mimetype": "text/x-python",
   "name": "python",
   "nbconvert_exporter": "python",
   "pygments_lexer": "ipython3",
   "version": "3.6.9"
  }
 },
 "nbformat": 4,
 "nbformat_minor": 4
}
