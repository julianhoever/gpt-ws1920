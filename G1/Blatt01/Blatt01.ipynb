{
 "cells": [
  {
   "cell_type": "markdown",
   "metadata": {},
   "source": [
    "# Grundlegende Programmiertechniken - Blatt 1"
   ]
  },
  {
   "cell_type": "markdown",
   "metadata": {},
   "source": [
    "### Aufgabe 1: Wahrheitswerte (5 Punkte)\n",
    "Vereinfachen Sie die folgenden Ausdrücke so weit wie möglich. Speichern Sie die vereinfachten Ausdrücke in einer Textdatei *Aufgabe1.txt* ab.\n",
    "- (a and a) or (b and b)\n",
    "- (a and b) or (a and c)\n",
    "- not (a < b) or (a == b)\n",
    "- (not (a < b) and not (a > b)) \n",
    "- (not (a and b) and (a or b)) or ((a and b) or not (a or b))\n"
   ]
  },
  {
   "cell_type": "markdown",
   "metadata": {},
   "source": [
    "Lösung:\n",
    "\n",
    "- (a and a) or (b and b)\n",
    "    - a or b\n",
    "\n",
    "\n",
    "- (a and b) or (a and c)\n",
    "    - a and (b or c)\n",
    "\n",
    "\n",
    "- not (a < b) or (a == b)\n",
    "    - a >= b\n",
    "\n",
    "\n",
    "- (not (a < b) and not (a > b))\n",
    "    - a == b\n",
    "\n",
    "\n",
    "\n",
    "- (not (a and b) and (a or b)) or ((a and b) or not (a or b))\n",
    "    - not(not((not(a and b) and (a or b)))) or ((a and b) or not (a or b))\n",
    "    - not((a and b) or not(a or b)) or ((a and b) or not (a or b))\n",
    "    - True"
   ]
  },
  {
   "cell_type": "markdown",
   "metadata": {},
   "source": [
    "### Aufgabe 2: Teilbarkeit (10 Punkte)\n",
    "Schreiben Sie ein Programm, das mit der **input-Funktion** zwei Ganzzahlen vom Benutzer einliest. Wenn eine der beiden Zahlen restlos durch die andere teilbar ist, soll das Programm *True* ausgeben, sonst *False*. Die Reihenfolge der Zahlen soll dabei keine Rolle spielen."
   ]
  },
  {
   "cell_type": "code",
   "execution_count": 4,
   "metadata": {},
   "outputs": [
    {
     "name": "stdin",
     "output_type": "stream",
     "text": [
      "Zahl 1: 5\n",
      "Zahl 2: 3\n"
     ]
    },
    {
     "name": "stdout",
     "output_type": "stream",
     "text": [
      "False\n"
     ]
    }
   ],
   "source": [
    "a = int(input(\"Zahl 1:\"))\n",
    "b = int(input(\"Zahl 2:\"))\n",
    "\n",
    "teilbar = a % b == 0 or b % a == 0\n",
    "\n",
    "print(teilbar)"
   ]
  },
  {
   "cell_type": "markdown",
   "metadata": {},
   "source": [
    "### Aufgabe 3: Zeitumrechner (15 Punkte)\n",
    "Schreiben Sie ein Programm, das als **Programmparameter** eine Ganzzahl erhält. Diese soll in einer Variable *seconds* gespeichert werden. Geben Sie aus, um wie viele Jahre, Tage, Stunden, Minuten und Sekunden es sich dabei handelt. Sie dürfen davon ausgehen, dass jedes Jahr 365 Tage hat. \n",
    "\n",
    "Die Ausgabe sollte folgendermaßen aufgebaut sein:\n",
    "\n",
    "    $ python3 Zeitumrechner.py 7464643\n",
    "    7464643 Sekunden sind 0 Jahr(e), 86 Tag(e), 9 Stunde(n), 30 Minute(n) und 43 Sekunde(n)."
   ]
  },
  {
   "cell_type": "code",
   "execution_count": 6,
   "metadata": {},
   "outputs": [
    {
     "name": "stdout",
     "output_type": "stream",
     "text": [
      "Writing Zeitumrechner.py\n"
     ]
    }
   ],
   "source": [
    "%%writefile Zeitumrechner.py\n",
    "import sys\n",
    "\n",
    "seconds = int(sys.argv[1])\n",
    "\n",
    "s = seconds % 60\n",
    "m = seconds // 60 % 60\n",
    "h = seconds // 60 // 60 % 24\n",
    "d = seconds // 60 // 60 // 24 % 365\n",
    "y = seconds // 60 // 60 // 24 // 365\n",
    "\n",
    "print(seconds, \"Sekunden sind\", y,\"Jahr(e),\",d,\"Tag(e),\",h,\"Stunde(n),\",m,\"Minute(n) und\",s,\"Sekunde(n).\")"
   ]
  },
  {
   "cell_type": "code",
   "execution_count": 7,
   "metadata": {},
   "outputs": [
    {
     "name": "stdout",
     "output_type": "stream",
     "text": [
      "333\n"
     ]
    }
   ],
   "source": [
    "zahl = 3\n",
    "\n",
    "print(str(zahl) * 3)"
   ]
  },
  {
   "cell_type": "code",
   "execution_count": 9,
   "metadata": {},
   "outputs": [
    {
     "name": "stdout",
     "output_type": "stream",
     "text": [
      "333\n"
     ]
    }
   ],
   "source": [
    "print(str(3) + \"33\")"
   ]
  },
  {
   "cell_type": "code",
   "execution_count": null,
   "metadata": {},
   "outputs": [],
   "source": []
  }
 ],
 "metadata": {
  "kernelspec": {
   "display_name": "Python 3",
   "language": "python",
   "name": "python3"
  },
  "language_info": {
   "codemirror_mode": {
    "name": "ipython",
    "version": 3
   },
   "file_extension": ".py",
   "mimetype": "text/x-python",
   "name": "python",
   "nbconvert_exporter": "python",
   "pygments_lexer": "ipython3",
   "version": "3.6.8"
  }
 },
 "nbformat": 4,
 "nbformat_minor": 4
}
