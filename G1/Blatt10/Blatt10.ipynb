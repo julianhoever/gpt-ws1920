{
 "cells": [
  {
   "cell_type": "markdown",
   "metadata": {},
   "source": [
    "# Grundlegende Programmiertechniken - Blatt 10"
   ]
  },
  {
   "cell_type": "markdown",
   "metadata": {},
   "source": [
    "## Aufgabe 1: Array Methoden (0 Punkte)\n",
    "Schreiben Sie ein Programm und speichern Sie es als *ArrayMethoden.py*."
   ]
  },
  {
   "cell_type": "markdown",
   "metadata": {},
   "source": [
    "### Aufgabe 1.1: Summe (5 Punkte)\n",
    "Schreiben Sie eine Methode, die als Parameter ein Array erhält und die Summe aller Werte\n",
    "im Array zurückgibt. Benutzen Sie **keine vorgefertigten Methoden wie sum**. \n",
    "\n",
    "*(Wenn Sie diese Methode vollkommen korrekt rekursiv implementieren, erhalten Sie 5 Bonuspunkte)*."
   ]
  },
  {
   "cell_type": "code",
   "execution_count": null,
   "metadata": {},
   "outputs": [],
   "source": [
    "# Ohne Rekursion\n",
    "def summe(arr):\n",
    "    s = 0\n",
    "    for zahl in arr:\n",
    "        s += zahl\n",
    "    return s"
   ]
  },
  {
   "cell_type": "code",
   "execution_count": null,
   "metadata": {},
   "outputs": [],
   "source": [
    "# Mit Rekursion\n",
    "def summe(arr):\n",
    "    if len(arr) == 0:\n",
    "        return 0\n",
    "    return arr[0] + summe(arr[1:])"
   ]
  },
  {
   "cell_type": "markdown",
   "metadata": {},
   "source": [
    "### Aufgabe 1.2: Multiplikation (5 Punkte)\n",
    "Schreiben Sie eine Methode, die als Parameter ein Array erhält und das Produkt aller Werte\n",
    "im Array zurückgibt."
   ]
  },
  {
   "cell_type": "code",
   "execution_count": 1,
   "metadata": {},
   "outputs": [],
   "source": [
    "def produkt(arr):\n",
    "    p = 1\n",
    "    for zahl in arr:\n",
    "        p *= zahl\n",
    "    return p"
   ]
  },
  {
   "cell_type": "markdown",
   "metadata": {},
   "source": [
    "### Aufgabe 1.3: Verdoppeln (10 Punkte)\n",
    "Schreiben Sie eine Methode, die als Parameter ein Array erhält und ein Array zurückgibt,\n",
    "das jeden Wert aus dem ursprünglichen Array und den Wert mit -1 multipliziert enthält.\n",
    "Die Reihenfolge der Werte im neuen Array ist egal."
   ]
  },
  {
   "cell_type": "code",
   "execution_count": 2,
   "metadata": {},
   "outputs": [],
   "source": [
    "def doppel(arr):\n",
    "    res = []\n",
    "    for zahl in arr:\n",
    "        res += [zahl, -zahl]\n",
    "    return res"
   ]
  },
  {
   "cell_type": "markdown",
   "metadata": {},
   "source": [
    "### Aufgabe 1.4: Hauptprogramm (10 Punkte)\n",
    "Ihr Programm soll bei Ausführung als **Programmparameter** beliebig viele Kommazahlen\n",
    "sowie als letztes einen Buchstaben (s,m oder d) erhalten. Die Zahlen sollen in einem Array\n",
    "gespeichert werden und je nach Buchstabe soll das Ergebnis der zuvor geschriebenen Methoden\n",
    "ausgegeben werden (Summe bei s, Multiplikation bei m und Verdoppeln bei d). Achten Sie\n",
    "darauf, **falsche oder fehlende Parameter angemessen zu behandeln**.\n"
   ]
  },
  {
   "cell_type": "code",
   "execution_count": 3,
   "metadata": {},
   "outputs": [
    {
     "name": "stdout",
     "output_type": "stream",
     "text": [
      "Writing ArrayMethoden.py\n"
     ]
    }
   ],
   "source": [
    "%%writefile ArrayMethoden.py\n",
    "import sys\n",
    "\n",
    "def summe(arr):\n",
    "    s = 0\n",
    "    for zahl in arr:\n",
    "        s += zahl\n",
    "    return s\n",
    "\n",
    "def produkt(arr):\n",
    "    p = 1\n",
    "    for zahl in arr:\n",
    "        p *= zahl\n",
    "    return p\n",
    "\n",
    "def doppel(arr):\n",
    "    res = []\n",
    "    for zahl in arr:\n",
    "        res += [zahl, -zahl]\n",
    "    return res\n",
    "\n",
    "if len(sys.argv) < 3:\n",
    "    print(\"Es fehlen Parameter.\")\n",
    "else:\n",
    "    zahlen = []\n",
    "    \n",
    "    try:\n",
    "        for p in sys.argv[1:-1]:\n",
    "            zahlen += [float(p)]\n",
    "    except:\n",
    "        print(\"Ungültige Zahl eingegeben.\")\n",
    "    else:\n",
    "        op =< sys.argv[-1]\n",
    "        \n",
    "        if op == \"s\":\n",
    "            print(summe(zahlen))\n",
    "        elif op == \"m\":\n",
    "            print(produkt(zahlen))\n",
    "        elif op == \"d\":\n",
    "            print(doppel(zahlen))\n",
    "        else:\n",
    "            print(\"Keine gültige Operation angegeben.\")"
   ]
  },
  {
   "cell_type": "markdown",
   "metadata": {},
   "source": [
    "## Aufgabe 2: Natürliche Summe (5 Punkte)\n",
    "Schreiben Sie ein Programm und speichern Sie es als *NatSum.py*. Ihr Programm soll bei\n",
    "der Ausführung eine positive Ganzzahl N als **Programmparameter** übergeben bekommen,\n",
    "und daraufhin die ersten N natürlichen Zahlen aufaddieren. Die Rechnung und das Ergebnis\n",
    "sollen ausgegeben werden.\n",
    "\n",
    "Ein beispielhafter Aufruf könnte so aussehen:\n",
    "\n",
    "    python3 NatSum.py 5\n",
    "    1 + 2 + 3 + 4 + 5 = 15"
   ]
  },
  {
   "cell_type": "code",
   "execution_count": 4,
   "metadata": {},
   "outputs": [
    {
     "name": "stdout",
     "output_type": "stream",
     "text": [
      "Writing NatSum.py\n"
     ]
    }
   ],
   "source": [
    "%%writefile NatSum.py\n",
    "import sys\n",
    "\n",
    "n = int(sys.argv[1])\n",
    "summe = \"1\"\n",
    "ergebnis = 1\n",
    "\n",
    "for i in range(2, n+1):\n",
    "    summe += \" + \" + str(i)\n",
    "    ergebnis += i\n",
    "\n",
    "print(summe, \"=\", ergebnis)"
   ]
  },
  {
   "cell_type": "markdown",
   "metadata": {},
   "source": [
    "### Aufgabe 2.1: Übersetzen in Java (10 Punkte)\n",
    "Nehmen Sie nun Ihr fertiges Programm und übersetzen Sie es in ein Java-Programm\n",
    "NatSum.java. Das Java-Programm soll die gleiche Funktionalität haben wie das Python\n",
    "Programm. Orientieren Sie sich bei der Übersetzung an den Vorlesungs-Folien. Geben Sie\n",
    "beide Versionen des Programmes ab."
   ]
  },
  {
   "cell_type": "markdown",
   "metadata": {
    "jupyter": {
     "source_hidden": true
    }
   },
   "source": []
  }
 ],
 "metadata": {
  "kernelspec": {
   "display_name": "Python 3",
   "language": "python",
   "name": "python3"
  },
  "language_info": {
   "codemirror_mode": {
    "name": "ipython",
    "version": 3
   },
   "file_extension": ".py",
   "mimetype": "text/x-python",
   "name": "python",
   "nbconvert_exporter": "python",
   "pygments_lexer": "ipython3",
   "version": "3.6.9"
  }
 },
 "nbformat": 4,
 "nbformat_minor": 4
}
