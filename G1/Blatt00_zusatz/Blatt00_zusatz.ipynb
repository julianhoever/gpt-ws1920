{
 "cells": [
  {
   "cell_type": "markdown",
   "metadata": {},
   "source": [
    "# Grundlegende Programmiertechniken - Extra Aufgaben"
   ]
  },
  {
   "cell_type": "markdown",
   "metadata": {},
   "source": [
    "## Aufgabe 1\n",
    "Schreiben Sie ein Programm „Potenzial.py“, welches zwei Zahlen als **Programmparameter** übergeben bekommt, und sowohl die Potenz x hoch y, als auch die Potenz y hoch x auf der Konsole ausgibt. Außerdem soll ausgegeben werden, ob die Potenzen gleich sind.\n",
    "\n",
    "Ihre Ausgabe sollte wie folgt aussehen:\n",
    "    \n",
    "    python3 Potenzial.py 2 5\n",
    "    2 hoch 5 = 32\n",
    "    5 hoch 2 = 25\n",
    "    \n",
    "    Sind die beiden Potenzen gleich: False"
   ]
  },
  {
   "cell_type": "code",
   "execution_count": 1,
   "metadata": {},
   "outputs": [
    {
     "name": "stdout",
     "output_type": "stream",
     "text": [
      "Writing Potenzial.py\n"
     ]
    }
   ],
   "source": [
    "%%writefile Potenzial.py\n",
    "import sys\n",
    "\n",
    "a = int(sys.argv[1])\n",
    "b = int(sys.argv[2])\n",
    "\n",
    "p1 = a ** b\n",
    "p2 = b ** a\n",
    "\n",
    "vergleich = p1 == p2\n",
    "\n",
    "print(a, \"hoch\", b, \"=\", p1)\n",
    "print(b, \"hoch\", a, \"=\", p2)\n",
    "print()\n",
    "print(\"Sind die beiden Potenzen gleich:\", vergleich)"
   ]
  },
  {
   "cell_type": "markdown",
   "metadata": {},
   "source": [
    "## Aufgabe 2\n",
    "In diesem Programm hat jemand aus Versehen einige Fehler eingebaut.\n",
    "\n",
    "a) Was muss alles geändert werden um das Programm lauffähig zu machen (mal abgesehen davon, ob es Sinn macht).\n",
    "    \n",
    "    input(\"Bitte geben Sie ihren Namen ein:\")\n",
    "    print(Hello eingabe!)\n",
    "    a = 6 = 7\n",
    "    sechs = 13\n",
    "    print (\"Meine Lieblingszahl ist\", sechs * a)\n",
    "    wort = \"schokokuchen\n",
    "    wort2 == \"keks\"\n",
    "    print(wort and wort2)\n",
    "    print(\"Ende!\")"
   ]
  },
  {
   "cell_type": "code",
   "execution_count": 2,
   "metadata": {},
   "outputs": [
    {
     "name": "stdin",
     "output_type": "stream",
     "text": [
      "Bitte geben Sie ihren Namen ein: Tim\n"
     ]
    },
    {
     "name": "stdout",
     "output_type": "stream",
     "text": [
      "Hello Tim !\n",
      "Meine Lieblingszahl ist 78\n",
      "keks\n",
      "Ende!\n"
     ]
    }
   ],
   "source": [
    "eingabe = input(\"Bitte geben Sie ihren Namen ein:\")\n",
    "print(\"Hello\", eingabe, \"!\")\n",
    "a = b = 6\n",
    "sechs = 13\n",
    "print (\"Meine Lieblingszahl ist\", sechs * a)\n",
    "wort = \"schokokuchen\"\n",
    "wort2 = \"keks\"\n",
    "print(wort and wort2)\n",
    "print(\"Ende!\")"
   ]
  },
  {
   "cell_type": "markdown",
   "metadata": {},
   "source": [
    "b) Nach einigem rumprobieren, ist ihnen eventuell aufgefallen, dass in Zeile 8 kein Fehler auftritt, sofern „wort“ und „wort2“ definiert sind. Warum kann man an dieser Stelle zwei Strings mit „and“ vergleichen? Was wird ausgegeben? Wird jemals „schokokuchen“ ausgegeben?\n",
    "\n",
    "*Tipp: Probieren Sie mit der Zeile etwas rum, und versuchen Sie verschieden Kombinationen. Fällt Ihnen etwas auf? Schauen Sie in die Python Dokumentation von „and“.*\n"
   ]
  },
  {
   "cell_type": "markdown",
   "metadata": {},
   "source": [
    "x and y -> x if x is false"
   ]
  },
  {
   "cell_type": "code",
   "execution_count": 5,
   "metadata": {},
   "outputs": [
    {
     "name": "stdout",
     "output_type": "stream",
     "text": [
      "False\n"
     ]
    }
   ],
   "source": [
    "print(False and \"keks\")"
   ]
  },
  {
   "cell_type": "markdown",
   "metadata": {},
   "source": [
    "c) Schaffen Sie es ein Programm zu schreiben mit maximal drei Zeilen, welches den User nach seinem Namen fragt, ihn begrüßt, Ihre Lieblingszahl ausgibt UND Ihr Lieblingsessen? Schaffen Sie es auch in einer Zeile Code?"
   ]
  },
  {
   "cell_type": "code",
   "execution_count": 6,
   "metadata": {},
   "outputs": [
    {
     "name": "stdin",
     "output_type": "stream",
     "text": [
      "Gib deinen Namen ein: Tim\n"
     ]
    },
    {
     "name": "stdout",
     "output_type": "stream",
     "text": [
      "Hallo Tim !\n",
      "Pizza\n",
      "17\n"
     ]
    }
   ],
   "source": [
    "name = input(\"Gib deinen Namen ein:\")\n",
    "print(\"Hallo\", name, \"!\")\n",
    "print(\"Pizza\\n17\")\n",
    "\n",
    "# print(\"Hallo\", input(\"Gib deinen Namen ein:\"), \"!\\nPizza\\n17\")"
   ]
  },
  {
   "cell_type": "code",
   "execution_count": 8,
   "metadata": {},
   "outputs": [
    {
     "name": "stdout",
     "output_type": "stream",
     "text": [
      "pizza\\n17\n"
     ]
    }
   ],
   "source": [
    "print(\"pizza\\\\n17\")"
   ]
  },
  {
   "cell_type": "markdown",
   "metadata": {},
   "source": [
    "## Aufgabe 3\n",
    "Was wird folgendes Programm ausgeben?"
   ]
  },
  {
   "cell_type": "code",
   "execution_count": 9,
   "metadata": {},
   "outputs": [
    {
     "name": "stdout",
     "output_type": "stream",
     "text": [
      "True\n"
     ]
    }
   ],
   "source": [
    "false = not True                       # false = False\n",
    "true = not False and False             # true = False\n",
    "ergebnis = false or true               # ergebnis = False\n",
    "ergebnis = not ergebnis and not false  # ergebnis = True\n",
    "print(ergebnis)"
   ]
  },
  {
   "cell_type": "code",
   "execution_count": null,
   "metadata": {},
   "outputs": [],
   "source": []
  }
 ],
 "metadata": {
  "kernelspec": {
   "display_name": "Python 3",
   "language": "python",
   "name": "python3"
  },
  "language_info": {
   "codemirror_mode": {
    "name": "ipython",
    "version": 3
   },
   "file_extension": ".py",
   "mimetype": "text/x-python",
   "name": "python",
   "nbconvert_exporter": "python",
   "pygments_lexer": "ipython3",
   "version": "3.6.8"
  }
 },
 "nbformat": 4,
 "nbformat_minor": 4
}
